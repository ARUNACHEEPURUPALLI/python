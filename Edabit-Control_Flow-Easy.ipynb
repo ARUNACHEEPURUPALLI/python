{
 "cells": [
  {
   "cell_type": "code",
   "execution_count": 1,
   "id": "37d2a59c",
   "metadata": {},
   "outputs": [],
   "source": [
    "#1 Write a function that returns the number of users in a chatroom based on the following rules:\n",
    "#If there is no one, return \"no one online\".\n",
    "#If there is 1 person, return \"user1 online\".\n",
    "#If there are 2 people, return \"user1 and user2 online\".\n",
    "#If there are n>2 people, return the first two names and add \"and n-2 more online\".\n",
    "\n",
    "def chatroomStatus(l):\n",
    "    if len(l)==0:\n",
    "        return \"no one online\"\n",
    "    elif len(l)==1:\n",
    "        return l[0]+\" online\"\n",
    "    elif len(l)==2:\n",
    "        return \"{} and {} are online\".format(l[0],l[1])\n",
    "    else:\n",
    "        return \"{}, {} and {} more users are online\".format(l[0],l[1],len(l)-2)"
   ]
  },
  {
   "cell_type": "code",
   "execution_count": 2,
   "id": "24a3d88d",
   "metadata": {},
   "outputs": [
    {
     "data": {
      "text/plain": [
       "'no one online'"
      ]
     },
     "execution_count": 2,
     "metadata": {},
     "output_type": "execute_result"
    }
   ],
   "source": [
    "chatroomStatus([])"
   ]
  },
  {
   "cell_type": "code",
   "execution_count": 3,
   "id": "247a3531",
   "metadata": {},
   "outputs": [
    {
     "data": {
      "text/plain": [
       "'s234f and mailbox2 are online'"
      ]
     },
     "execution_count": 3,
     "metadata": {},
     "output_type": "execute_result"
    }
   ],
   "source": [
    "chatroomStatus([\"s234f\", \"mailbox2\"])"
   ]
  },
  {
   "cell_type": "code",
   "execution_count": 4,
   "id": "e33636e7",
   "metadata": {},
   "outputs": [],
   "source": [
    "#2 Create a function that returns the number of palindrome numbers in a specified range (inclusive).For example, \n",
    "#between 8 and 34, there are 5 palindromes: 8,9,11,22 and 33. Between 1550 and 1552 there is exactly one palindrome: 1551.\n",
    "\n",
    "def count_palindromes(a,b):\n",
    "    c=0\n",
    "    for x in range(a,b+1):\n",
    "        y=str(x)\n",
    "        if y==y[::-1]:\n",
    "            c+=1\n",
    "        else:\n",
    "            continue\n",
    "    return c"
   ]
  },
  {
   "cell_type": "code",
   "execution_count": 5,
   "id": "a2f43b7e",
   "metadata": {},
   "outputs": [
    {
     "data": {
      "text/plain": [
       "9"
      ]
     },
     "execution_count": 5,
     "metadata": {},
     "output_type": "execute_result"
    }
   ],
   "source": [
    "count_palindromes(1, 10)"
   ]
  },
  {
   "cell_type": "code",
   "execution_count": 6,
   "id": "2b7502e6",
   "metadata": {},
   "outputs": [
    {
     "data": {
      "text/plain": [
       "1"
      ]
     },
     "execution_count": 6,
     "metadata": {},
     "output_type": "execute_result"
    }
   ],
   "source": [
    "count_palindromes(555, 556)"
   ]
  },
  {
   "cell_type": "code",
   "execution_count": 7,
   "id": "49676a13",
   "metadata": {},
   "outputs": [
    {
     "data": {
      "text/plain": [
       "3"
      ]
     },
     "execution_count": 7,
     "metadata": {},
     "output_type": "execute_result"
    }
   ],
   "source": [
    "count_palindromes(878, 898) "
   ]
  },
  {
   "cell_type": "code",
   "execution_count": 8,
   "id": "365545dc",
   "metadata": {},
   "outputs": [],
   "source": [
    "#3 Create a function that returns the sum of all even elements in a 2D matrix.\n",
    "\n",
    "def sum_of_evens(lst):\n",
    "    a=lst[0];b=0\n",
    "    for x in lst:\n",
    "        if len(x)==len(a):\n",
    "            for y in x:\n",
    "                if y%2==0:\n",
    "                    b+=y\n",
    "                else:\n",
    "                    continue\n",
    "        else:\n",
    "            return \"Submatrices of unequal length\"\n",
    "    return b"
   ]
  },
  {
   "cell_type": "code",
   "execution_count": 9,
   "id": "023b46c7",
   "metadata": {},
   "outputs": [
    {
     "data": {
      "text/plain": [
       "6"
      ]
     },
     "execution_count": 9,
     "metadata": {},
     "output_type": "execute_result"
    }
   ],
   "source": [
    "sum_of_evens([[1, 0, 2],[5, 5, 7],[9, 4, 3]])"
   ]
  },
  {
   "cell_type": "code",
   "execution_count": 10,
   "id": "b1a7a0f7",
   "metadata": {},
   "outputs": [],
   "source": [
    "#4 Write a function that takes a string, breaks it up and returns it with vowels first, consonants second. \n",
    "#For any character that's not a vowel (like special characters or spaces), treat them like consonants.\n",
    "\n",
    "def split(z):\n",
    "    v=\"\";c=\"\"\n",
    "    for y in range(len(z)):\n",
    "        if z[y]==\"a\" or z[y]==\"e\" or z[y]==\"i\" or z[y]==\"o\" or z[y]==\"u\" or z[y]==\"A\" or z[y]==\"E\" or z[y]==\"I\" or z[y]==\"O\" or z[y]==\"U\":\n",
    "            v+=z[y]\n",
    "        else:\n",
    "            c+=z[y]\n",
    "    return (v+c)"
   ]
  },
  {
   "cell_type": "code",
   "execution_count": 11,
   "id": "6388243c",
   "metadata": {},
   "outputs": [
    {
     "data": {
      "text/plain": [
       "'aebcd'"
      ]
     },
     "execution_count": 11,
     "metadata": {},
     "output_type": "execute_result"
    }
   ],
   "source": [
    "split(\"abcde\")"
   ]
  },
  {
   "cell_type": "code",
   "execution_count": 12,
   "id": "1388b9f3",
   "metadata": {},
   "outputs": [
    {
     "data": {
      "text/plain": [
       "'eoHll!'"
      ]
     },
     "execution_count": 12,
     "metadata": {},
     "output_type": "execute_result"
    }
   ],
   "source": [
    "split(\"Hello!\")"
   ]
  },
  {
   "cell_type": "code",
   "execution_count": 13,
   "id": "b1514ca6",
   "metadata": {},
   "outputs": [],
   "source": [
    "#5 Create a function that takes a string as an argument and returns a coded (h4ck3r 5p34k) version of the string.\n",
    "\n",
    "def hacker_speak(s):\n",
    "    table=s.maketrans(\"aeios\",\"43105\")\n",
    "    return s.translate(table)"
   ]
  },
  {
   "cell_type": "code",
   "execution_count": 14,
   "id": "cdaa5003",
   "metadata": {},
   "outputs": [
    {
     "data": {
      "text/plain": [
       "'j4v45cr1pt 15 c00l'"
      ]
     },
     "execution_count": 14,
     "metadata": {},
     "output_type": "execute_result"
    }
   ],
   "source": [
    "hacker_speak(\"javascript is cool\")"
   ]
  },
  {
   "cell_type": "code",
   "execution_count": 15,
   "id": "f77a7f10",
   "metadata": {},
   "outputs": [],
   "source": [
    "#6 Create a function that takes in a year and returns the correct century.\n",
    "\n",
    "def century(n):\n",
    "    return (str((n//100)+1)+\" century\")"
   ]
  },
  {
   "cell_type": "code",
   "execution_count": 16,
   "id": "5331f38d",
   "metadata": {},
   "outputs": [
    {
     "data": {
      "text/plain": [
       "'16 century'"
      ]
     },
     "execution_count": 16,
     "metadata": {},
     "output_type": "execute_result"
    }
   ],
   "source": [
    "century(1558)"
   ]
  },
  {
   "cell_type": "code",
   "execution_count": null,
   "id": "4663b666",
   "metadata": {},
   "outputs": [],
   "source": []
  }
 ],
 "metadata": {
  "kernelspec": {
   "display_name": "Python 3 (ipykernel)",
   "language": "python",
   "name": "python3"
  },
  "language_info": {
   "codemirror_mode": {
    "name": "ipython",
    "version": 3
   },
   "file_extension": ".py",
   "mimetype": "text/x-python",
   "name": "python",
   "nbconvert_exporter": "python",
   "pygments_lexer": "ipython3",
   "version": "3.10.9"
  }
 },
 "nbformat": 4,
 "nbformat_minor": 5
}
