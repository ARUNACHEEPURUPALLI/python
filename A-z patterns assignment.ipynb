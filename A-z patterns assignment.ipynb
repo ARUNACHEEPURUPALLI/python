{
 "cells": [
  {
   "cell_type": "code",
   "execution_count": 6,
   "id": "91b0ea8d",
   "metadata": {},
   "outputs": [
    {
     "name": "stdout",
     "output_type": "stream",
     "text": [
      "* * *\n",
      "*   *\n",
      "* * *\n",
      "*   *\n",
      "*   *\n"
     ]
    }
   ],
   "source": [
    "a1=1\n",
    "a2=2\n",
    "a3=3\n",
    "a4=4\n",
    "a5=5\n",
    "a6=6\n",
    "\n",
    "if a1==1:\n",
    "    print(\"* * *\")\n",
    "if a2==2:\n",
    "    print(\"*   *\")\n",
    "if a3==3:\n",
    "    print(\"* * *\")\n",
    "if a4==4:\n",
    "    print(\"*   *\")\n",
    "if a4==5:\n",
    "    print(\"*   *\")\n",
    "if a6==6:\n",
    "    print(\"*   *\")"
   ]
  },
  {
   "cell_type": "code",
   "execution_count": 15,
   "id": "8fb076cc",
   "metadata": {},
   "outputs": [
    {
     "name": "stdout",
     "output_type": "stream",
     "text": [
      "* * *\n",
      "*    *\n",
      "*   *\n",
      "*  *\n",
      "**\n",
      "*  *\n",
      "*   *\n",
      "*    *\n",
      "* * *\n"
     ]
    }
   ],
   "source": [
    "a1=1\n",
    "a2=2\n",
    "a3=3\n",
    "a4=4\n",
    "a5=5\n",
    "a6=6\n",
    "a7=7\n",
    "a8=8\n",
    "\n",
    "if a1==1:\n",
    "    print(\"* * *\")\n",
    "if a2==2:\n",
    "    print(\"*    *\")\n",
    "if a2==2:\n",
    "    print(\"*   *\")\n",
    "if a3==3:\n",
    "    print(\"*  *\")\n",
    "if a4==4:\n",
    "    print(\"**\")\n",
    "if a5==5:\n",
    "    print(\"*  *\")\n",
    "if a6==6:\n",
    "    print(\"*   *\")\n",
    "if a7==7:\n",
    "    print(\"*    *\")\n",
    "if a8==8:\n",
    "    print(\"* * *\")"
   ]
  },
  {
   "cell_type": "code",
   "execution_count": 1,
   "id": "9e01c8b5",
   "metadata": {},
   "outputs": [
    {
     "name": "stdout",
     "output_type": "stream",
     "text": [
      "* * *\n",
      "*\n",
      "*\n",
      "*\n",
      "* * *\n"
     ]
    }
   ],
   "source": [
    "a1=1\n",
    "a2=2\n",
    "a3=3\n",
    "a4=4\n",
    "a5=5\n",
    "\n",
    "if a1==1:\n",
    "    print(\"* * *\")\n",
    "if a2==2:\n",
    "    print(\"*\")\n",
    "if a3==3:\n",
    "    print(\"*\")\n",
    "if a4==4:\n",
    "    print(\"*\")\n",
    "if a5==5:\n",
    "    print(\"* * *\")"
   ]
  },
  {
   "cell_type": "code",
   "execution_count": 7,
   "id": "6e344954",
   "metadata": {},
   "outputs": [
    {
     "name": "stdout",
     "output_type": "stream",
     "text": [
      "* * *\n",
      "*    *\n",
      "*     *\n",
      "*     *\n",
      "*    *\n",
      "* * *\n"
     ]
    }
   ],
   "source": [
    "a1=1\n",
    "a2=2\n",
    "a3=3\n",
    "a4=4\n",
    "a5=5\n",
    "a6=6\n",
    "\n",
    "if a1==1:\n",
    "    print(\"* * *\")\n",
    "if a2==2:\n",
    "    print(\"*    *\")\n",
    "if a3==3:\n",
    "    print(\"*     *\")\n",
    "if a4==4:\n",
    "    print(\"*     *\")\n",
    "if a5==5:\n",
    "    print(\"*    *\")\n",
    "if a6==6:\n",
    "    print(\"* * *\")"
   ]
  },
  {
   "cell_type": "code",
   "execution_count": 2,
   "id": "98987e11",
   "metadata": {},
   "outputs": [
    {
     "name": "stdout",
     "output_type": "stream",
     "text": [
      "* * *\n",
      "*\n",
      "* * *\n",
      "*\n",
      "* * *\n"
     ]
    }
   ],
   "source": [
    "a1=1\n",
    "a2=2\n",
    "a3=3\n",
    "a4=4\n",
    "a5=5\n",
    "\n",
    "if a1==1:\n",
    "    print(\"* * *\")\n",
    "if a2==2:\n",
    "    print(\"*\")\n",
    "if a3==3:\n",
    "    print(\"* * *\")\n",
    "if a4==4:\n",
    "    print(\"*\")\n",
    "if a5==5:\n",
    "    print(\"* * *\")"
   ]
  },
  {
   "cell_type": "code",
   "execution_count": 4,
   "id": "2c0b1771",
   "metadata": {},
   "outputs": [
    {
     "name": "stdout",
     "output_type": "stream",
     "text": [
      "* * *\n",
      "*\n",
      "* * *\n",
      "*\n",
      "*\n"
     ]
    }
   ],
   "source": [
    "a1=1\n",
    "a2=2\n",
    "a3=3\n",
    "a4=4\n",
    "a5=5\n",
    "\n",
    "if a1==1:\n",
    "    print(\"* * *\")\n",
    "if a2==2:\n",
    "    print(\"*\")\n",
    "if a3==3:\n",
    "    print(\"* * *\")\n",
    "if a4==4:\n",
    "    print(\"*\")\n",
    "if a5==5:\n",
    "    print(\"*\")"
   ]
  },
  {
   "cell_type": "code",
   "execution_count": 17,
   "id": "540125a6",
   "metadata": {},
   "outputs": [
    {
     "name": "stdout",
     "output_type": "stream",
     "text": [
      "  * * *\n",
      " *      *\n",
      "*\n",
      "*\n",
      "*      *  * * * *\n",
      "*       *       *\n",
      " *     *        *\n",
      "  * * *         *\n",
      "                *\n"
     ]
    }
   ],
   "source": [
    "a1=1\n",
    "a2=2\n",
    "a3=3\n",
    "a4=4\n",
    "a5=5\n",
    "a6=6\n",
    "a7=7\n",
    "a8=8\n",
    "\n",
    "if a1==1:\n",
    "    print(\"  * * *\")\n",
    "if a2==2:\n",
    "    print(\" *      *\")\n",
    "if a2==2:\n",
    "    print(\"*\")\n",
    "if a3==3:\n",
    "    print(\"*\")\n",
    "if a4==4:\n",
    "    print(\"*      *  * * * *\")\n",
    "if a5==5:\n",
    "    print(\"*       *       *\")\n",
    "if a6==6:\n",
    "    print(\" *     *        *\")\n",
    "if a7==7:\n",
    "    print(\"  * * *         *\")\n",
    "if a8==8:\n",
    "    print(\"                *\")"
   ]
  },
  {
   "cell_type": "code",
   "execution_count": 18,
   "id": "8f649363",
   "metadata": {},
   "outputs": [
    {
     "name": "stdout",
     "output_type": "stream",
     "text": [
      "*   *\n",
      "*   *\n",
      "* * *\n",
      "*   *\n",
      "*   *\n"
     ]
    }
   ],
   "source": [
    "a1=1\n",
    "a2=2\n",
    "a3=3\n",
    "a4=4\n",
    "a5=5\n",
    "a6=6\n",
    "\n",
    "if a1==1:\n",
    "    print(\"*   *\")\n",
    "if a2==2:\n",
    "    print(\"*   *\")\n",
    "if a3==3:\n",
    "    print(\"* * *\")\n",
    "if a4==4:\n",
    "    print(\"*   *\")\n",
    "if a4==5:\n",
    "    print(\"*   *\")\n",
    "if a6==6:\n",
    "    print(\"*   *\")"
   ]
  },
  {
   "cell_type": "code",
   "execution_count": 20,
   "id": "b4c0aa62",
   "metadata": {},
   "outputs": [
    {
     "name": "stdout",
     "output_type": "stream",
     "text": [
      "* * * * *\n",
      "    *\n",
      "    *\n",
      "    *\n",
      "* * * * *\n"
     ]
    }
   ],
   "source": [
    "a1=1\n",
    "a2=2\n",
    "a3=3\n",
    "a4=4\n",
    "a5=5\n",
    "\n",
    "if a1==1:\n",
    "    print(\"* * * * *\")\n",
    "if a2==2:\n",
    "    print(\"    *\")\n",
    "if a3==3:\n",
    "    print(\"    *\")\n",
    "if a4==4:\n",
    "    print(\"    *\")\n",
    "if a5==5:\n",
    "    print(\"* * * * *\")"
   ]
  },
  {
   "cell_type": "code",
   "execution_count": 22,
   "id": "b9178ab4",
   "metadata": {},
   "outputs": [
    {
     "name": "stdout",
     "output_type": "stream",
     "text": [
      "* * * * *\n",
      "    *\n",
      "    *\n",
      "*   *\n",
      "* * *\n"
     ]
    }
   ],
   "source": [
    "a1=1\n",
    "a2=2\n",
    "a3=3\n",
    "a4=4\n",
    "a5=5\n",
    "\n",
    "if a1==1:\n",
    "    print(\"* * * * *\")\n",
    "if a2==2:\n",
    "    print(\"    *\")\n",
    "if a3==3:\n",
    "    print(\"    *\")\n",
    "if a4==4:\n",
    "    print(\"*   *\")\n",
    "if a5==5:\n",
    "    print(\"* * *\")"
   ]
  },
  {
   "cell_type": "code",
   "execution_count": 24,
   "id": "7a9714d2",
   "metadata": {},
   "outputs": [
    {
     "name": "stdout",
     "output_type": "stream",
     "text": [
      "*    * \n",
      "*   *\n",
      "* *\n",
      "*   *\n",
      "*     *\n"
     ]
    }
   ],
   "source": [
    "a1=1\n",
    "a2=2\n",
    "a3=3\n",
    "a4=4\n",
    "a5=5\n",
    "\n",
    "if a1==1:\n",
    "    print(\"*    * \")\n",
    "if a2==2:\n",
    "    print(\"*   *\")\n",
    "if a3==3:\n",
    "    print(\"* *\")\n",
    "if a4==4:\n",
    "    print(\"*   *\")\n",
    "if a5==5:\n",
    "    print(\"*     *\")"
   ]
  },
  {
   "cell_type": "code",
   "execution_count": 26,
   "id": "c94edaa2",
   "metadata": {},
   "outputs": [
    {
     "name": "stdout",
     "output_type": "stream",
     "text": [
      "*\n",
      "*\n",
      "*\n",
      "*\n",
      "* * *\n"
     ]
    }
   ],
   "source": [
    "a1=1\n",
    "a2=2\n",
    "a3=3\n",
    "a4=4\n",
    "a5=5\n",
    "\n",
    "if a1==1:\n",
    "    print(\"*\")\n",
    "if a2==2:\n",
    "    print(\"*\")\n",
    "if a3==3:\n",
    "    print(\"*\")\n",
    "if a4==4:\n",
    "    print(\"*\")\n",
    "if a5==5:\n",
    "    print(\"* * *\")"
   ]
  },
  {
   "cell_type": "code",
   "execution_count": 28,
   "id": "d3258571",
   "metadata": {},
   "outputs": [
    {
     "name": "stdout",
     "output_type": "stream",
     "text": [
      "*       * \n",
      "* *   * *\n",
      "*   *   *\n",
      "*       *\n",
      "*       *\n"
     ]
    }
   ],
   "source": [
    "a1=1\n",
    "a2=2\n",
    "a3=3\n",
    "a4=4\n",
    "a5=5\n",
    "\n",
    "if a1==1:\n",
    "    print(\"*       * \")\n",
    "if a2==2:\n",
    "    print(\"* *   * *\")\n",
    "if a3==3:\n",
    "    print(\"*   *   *\")\n",
    "if a4==4:\n",
    "    print(\"*       *\")\n",
    "if a5==5:\n",
    "    print(\"*       *\")"
   ]
  },
  {
   "cell_type": "code",
   "execution_count": 32,
   "id": "656535d3",
   "metadata": {},
   "outputs": [
    {
     "name": "stdout",
     "output_type": "stream",
     "text": [
      "**      *\n",
      "*  *    *\n",
      "*   *   *\n",
      "*    *  *\n",
      "*      **\n"
     ]
    }
   ],
   "source": [
    "a1=1\n",
    "a2=2\n",
    "a3=3\n",
    "a4=4\n",
    "a5=5\n",
    "\n",
    "if a1==1:\n",
    "    print(\"**      *\")\n",
    "if a2==2:\n",
    "    print(\"*  *    *\")\n",
    "if a3==3:\n",
    "    print(\"*   *   *\")\n",
    "if a4==4:\n",
    "    print(\"*    *  *\")\n",
    "if a5==5:\n",
    "    print(\"*      **\")"
   ]
  },
  {
   "cell_type": "code",
   "execution_count": 39,
   "id": "10af4772",
   "metadata": {},
   "outputs": [
    {
     "name": "stdout",
     "output_type": "stream",
     "text": [
      "* * *\n",
      "*   *\n",
      "*   *\n",
      "*   *\n",
      "* * *\n"
     ]
    }
   ],
   "source": [
    "a1=1\n",
    "a2=2\n",
    "a3=3\n",
    "a4=4\n",
    "a5=5\n",
    "\n",
    "if a1==1:\n",
    "    print(\"* * *\")\n",
    "if a2==2:\n",
    "    print(\"*   *\")\n",
    "if a3==3:\n",
    "    print(\"*   *\")\n",
    "if a4==4:\n",
    "    print(\"*   *\")\n",
    "if a5==5:\n",
    "    print(\"* * *\")"
   ]
  },
  {
   "cell_type": "code",
   "execution_count": 40,
   "id": "9bd5f635",
   "metadata": {},
   "outputs": [
    {
     "name": "stdout",
     "output_type": "stream",
     "text": [
      "* * *\n",
      "*   *\n",
      "* * *\n",
      "*\n",
      "*\n"
     ]
    }
   ],
   "source": [
    "a1=1\n",
    "a2=2\n",
    "a3=3\n",
    "a4=4\n",
    "a5=5\n",
    "\n",
    "if a1==1:\n",
    "    print(\"* * *\")\n",
    "if a2==2:\n",
    "    print(\"*   *\")\n",
    "if a3==3:\n",
    "    print(\"* * *\")\n",
    "if a4==4:\n",
    "    print(\"*\")\n",
    "if a5==5:\n",
    "    print(\"*\")"
   ]
  },
  {
   "cell_type": "code",
   "execution_count": 45,
   "id": "b1630d03",
   "metadata": {},
   "outputs": [
    {
     "name": "stdout",
     "output_type": "stream",
     "text": [
      "* * *\n",
      "*   *\n",
      "*  **\n",
      "* * *\n",
      "      *\n"
     ]
    }
   ],
   "source": [
    "a1=1\n",
    "a2=2\n",
    "a3=3\n",
    "a4=4\n",
    "a5=5\n",
    "a6=6\n",
    "\n",
    "if a1==1:\n",
    "    print(\"* * *\")\n",
    "if a2==2:\n",
    "    print(\"*   *\")\n",
    "if a3==3:\n",
    "    print(\"*  **\")\n",
    "if a4==4:\n",
    "    print(\"* * *\")\n",
    "if a5==5:\n",
    "    print(\"      *\")\n",
    "if a6==6:(\"        *\")    "
   ]
  },
  {
   "cell_type": "code",
   "execution_count": 47,
   "id": "37a27a23",
   "metadata": {},
   "outputs": [
    {
     "name": "stdout",
     "output_type": "stream",
     "text": [
      "* * *\n",
      "*    *\n",
      "*   *\n",
      "*  *\n",
      "**\n",
      "*  *\n",
      "*   *\n",
      "*    *\n",
      "*     *\n"
     ]
    }
   ],
   "source": [
    "a1=1\n",
    "a2=2\n",
    "a3=3\n",
    "a4=4\n",
    "a5=5\n",
    "a6=6\n",
    "a7=7\n",
    "a8=8\n",
    "\n",
    "if a1==1:\n",
    "    print(\"* * *\")\n",
    "if a2==2:\n",
    "    print(\"*    *\")\n",
    "if a2==2:\n",
    "    print(\"*   *\")\n",
    "if a3==3:\n",
    "    print(\"*  *\")\n",
    "if a4==4:\n",
    "    print(\"**\")\n",
    "if a5==5:\n",
    "    print(\"*  *\")\n",
    "if a6==6:\n",
    "    print(\"*   *\")\n",
    "if a7==7:\n",
    "    print(\"*    *\")\n",
    "if a8==8:\n",
    "    print(\"*     *\")"
   ]
  },
  {
   "cell_type": "code",
   "execution_count": 49,
   "id": "b6831910",
   "metadata": {},
   "outputs": [
    {
     "name": "stdout",
     "output_type": "stream",
     "text": [
      "* * *\n",
      "*\n",
      "* * *\n",
      "    *\n",
      "* * *\n"
     ]
    }
   ],
   "source": [
    "a1=1\n",
    "a2=2\n",
    "a3=3\n",
    "a4=4\n",
    "a5=5\n",
    "\n",
    "if a1==1:\n",
    "    print(\"* * *\")\n",
    "if a2==2:\n",
    "    print(\"*\")\n",
    "if a3==3:\n",
    "    print(\"* * *\")\n",
    "if a4==4:\n",
    "    print(\"    *\")\n",
    "if a5==5:\n",
    "    print(\"* * *\")"
   ]
  },
  {
   "cell_type": "code",
   "execution_count": 52,
   "id": "33f0a899",
   "metadata": {},
   "outputs": [
    {
     "name": "stdout",
     "output_type": "stream",
     "text": [
      "* * * * *\n",
      "    *\n",
      "    *\n",
      "    *\n",
      "    *\n"
     ]
    }
   ],
   "source": [
    "a1=1\n",
    "a2=2\n",
    "a3=3\n",
    "a4=4\n",
    "a5=5\n",
    "\n",
    "if a1==1:\n",
    "    print(\"* * * * *\")\n",
    "if a2==2:\n",
    "    print(\"    *\")\n",
    "if a3==3:\n",
    "    print(\"    *\")\n",
    "if a4==4:\n",
    "    print(\"    *\")\n",
    "if a5==5:\n",
    "    print(\"    *\")"
   ]
  },
  {
   "cell_type": "code",
   "execution_count": 55,
   "id": "da114c1f",
   "metadata": {},
   "outputs": [
    {
     "name": "stdout",
     "output_type": "stream",
     "text": [
      "*   *\n",
      "*   *\n",
      "*   *\n",
      "*   *\n",
      "* * *\n"
     ]
    }
   ],
   "source": [
    "a1=1\n",
    "a2=2\n",
    "a3=3\n",
    "a4=4\n",
    "a5=5\n",
    "\n",
    "if a1==1:\n",
    "    print(\"*   *\")\n",
    "if a2==2:\n",
    "    print(\"*   *\")\n",
    "if a3==3:\n",
    "    print(\"*   *\")\n",
    "if a4==4:\n",
    "    print(\"*   *\")\n",
    "if a5==5:\n",
    "    print(\"* * *\")"
   ]
  },
  {
   "cell_type": "code",
   "execution_count": 58,
   "id": "83e97877",
   "metadata": {},
   "outputs": [
    {
     "name": "stdout",
     "output_type": "stream",
     "text": [
      "*       *\n",
      " *     *\n",
      "  *   *\n",
      "   * *\n",
      "    * \n"
     ]
    }
   ],
   "source": [
    "a1=1\n",
    "a2=2\n",
    "a3=3\n",
    "a4=4\n",
    "a5=5\n",
    "\n",
    "if a1==1:\n",
    "    print(\"*       *\")\n",
    "if a2==2:\n",
    "    print(\" *     *\")\n",
    "if a3==3:\n",
    "    print(\"  *   *\")\n",
    "if a4==4:\n",
    "    print(\"   * *\")\n",
    "if a5==5:\n",
    "    print(\"    * \")"
   ]
  },
  {
   "cell_type": "code",
   "execution_count": 61,
   "id": "0aea8af4",
   "metadata": {},
   "outputs": [
    {
     "name": "stdout",
     "output_type": "stream",
     "text": [
      "*       *         *\n",
      " *     *  *      *\n",
      "  *   *    *    *\n",
      "   * *      *  *\n",
      "    *        *\n"
     ]
    }
   ],
   "source": [
    "a1=1\n",
    "a2=2\n",
    "a3=3\n",
    "a4=4\n",
    "a5=5\n",
    "\n",
    "if a1==1:\n",
    "    print(\"*       *         *\")\n",
    "if a2==2:\n",
    "    print(\" *     *  *      *\")\n",
    "if a3==3:\n",
    "    print(\"  *   *    *    *\")\n",
    "if a4==4:\n",
    "    print(\"   * *      *  *\")\n",
    "if a5==5:\n",
    "    print(\"    *        *\")"
   ]
  },
  {
   "cell_type": "code",
   "execution_count": 64,
   "id": "fbbfbe62",
   "metadata": {},
   "outputs": [
    {
     "name": "stdout",
     "output_type": "stream",
     "text": [
      "*     *\n",
      " *   *\n",
      "   *   \n",
      " *   *\n",
      "*     *\n"
     ]
    }
   ],
   "source": [
    "a1=1\n",
    "a2=2\n",
    "a3=3\n",
    "a4=4\n",
    "a5=5\n",
    "\n",
    "if a1==1:\n",
    "    print(\"*     *\")\n",
    "if a2==2:\n",
    "    print(\" *   *\")\n",
    "if a3==3:\n",
    "    print(\"   *   \")\n",
    "if a4==4:\n",
    "    print(\" *   *\")\n",
    "if a5==5:\n",
    "    print(\"*     *\")"
   ]
  },
  {
   "cell_type": "code",
   "execution_count": 64,
   "id": "f221f0d6",
   "metadata": {},
   "outputs": [
    {
     "name": "stdout",
     "output_type": "stream",
     "text": [
      "*     *\n",
      " *   *\n",
      "   *   \n",
      " *   *\n",
      "*     *\n"
     ]
    }
   ],
   "source": [
    "a1=1\n",
    "a2=2\n",
    "a3=3\n",
    "a4=4\n",
    "a5=5\n",
    "\n",
    "if a1==1:\n",
    "    print(\"*     *\")\n",
    "if a2==2:\n",
    "    print(\" *   *\")\n",
    "if a3==3:\n",
    "    print(\"   *   \")\n",
    "if a4==4:\n",
    "    print(\" *   *\")\n",
    "if a5==5:\n",
    "    print(\"*     *\")"
   ]
  },
  {
   "cell_type": "code",
   "execution_count": 66,
   "id": "01dda437",
   "metadata": {},
   "outputs": [
    {
     "name": "stdout",
     "output_type": "stream",
     "text": [
      "*     *\n",
      " *   *\n",
      "   *   \n",
      " *\n",
      "*\n"
     ]
    }
   ],
   "source": [
    "a1=1\n",
    "a2=2\n",
    "a3=3\n",
    "a4=4\n",
    "a5=5\n",
    "\n",
    "if a1==1:\n",
    "    print(\"*     *\")\n",
    "if a2==2:\n",
    "    print(\" *   *\")\n",
    "if a3==3:\n",
    "    print(\"   *   \")\n",
    "if a4==4:\n",
    "    print(\" *\")\n",
    "if a5==5:\n",
    "    print(\"*\")"
   ]
  },
  {
   "cell_type": "code",
   "execution_count": 68,
   "id": "515e918f",
   "metadata": {},
   "outputs": [
    {
     "name": "stdout",
     "output_type": "stream",
     "text": [
      "* * *\n",
      "   *\n",
      "  * \n",
      " *\n",
      "* * *\n"
     ]
    }
   ],
   "source": [
    "a1=1\n",
    "a2=2\n",
    "a3=3\n",
    "a4=4\n",
    "a5=5\n",
    "\n",
    "if a1==1:\n",
    "    print(\"* * *\")\n",
    "if a2==2:\n",
    "    print(\"   *\")\n",
    "if a3==3:\n",
    "    print(\"  * \")\n",
    "if a4==4:\n",
    "    print(\" *\")\n",
    "if a5==5:\n",
    "    print(\"* * *\")"
   ]
  },
  {
   "cell_type": "code",
   "execution_count": null,
   "id": "ae2ef7ff",
   "metadata": {},
   "outputs": [],
   "source": []
  }
 ],
 "metadata": {
  "kernelspec": {
   "display_name": "Python 3 (ipykernel)",
   "language": "python",
   "name": "python3"
  },
  "language_info": {
   "codemirror_mode": {
    "name": "ipython",
    "version": 3
   },
   "file_extension": ".py",
   "mimetype": "text/x-python",
   "name": "python",
   "nbconvert_exporter": "python",
   "pygments_lexer": "ipython3",
   "version": "3.10.9"
  }
 },
 "nbformat": 4,
 "nbformat_minor": 5
}
