{
 "cells": [
  {
   "cell_type": "code",
   "execution_count": 1,
   "id": "c8334c33",
   "metadata": {},
   "outputs": [],
   "source": [
    "#1 A vehicle needs 10 times the amount of fuel than the distance it travels. However, it must always carry a \n",
    "#minimum of 100 fuel before setting off.Create a function which calculates the amount of fuel it needs, given \n",
    "#the distance.\n",
    "\n",
    "def calculateFuel(km):\n",
    "    if km<=10:\n",
    "        return 100\n",
    "    else:\n",
    "        return 10*km"
   ]
  },
  {
   "cell_type": "code",
   "execution_count": 2,
   "id": "2fa7e37c",
   "metadata": {},
   "outputs": [
    {
     "data": {
      "text/plain": [
       "150"
      ]
     },
     "execution_count": 2,
     "metadata": {},
     "output_type": "execute_result"
    }
   ],
   "source": [
    "calculateFuel(15)"
   ]
  },
  {
   "cell_type": "code",
   "execution_count": 3,
   "id": "692b09c9",
   "metadata": {},
   "outputs": [
    {
     "data": {
      "text/plain": [
       "235.0"
      ]
     },
     "execution_count": 3,
     "metadata": {},
     "output_type": "execute_result"
    }
   ],
   "source": [
    "calculateFuel(23.5)"
   ]
  },
  {
   "cell_type": "code",
   "execution_count": 4,
   "id": "9afffe7d",
   "metadata": {},
   "outputs": [
    {
     "data": {
      "text/plain": [
       "100"
      ]
     },
     "execution_count": 4,
     "metadata": {},
     "output_type": "execute_result"
    }
   ],
   "source": [
    "calculateFuel(3)"
   ]
  },
  {
   "cell_type": "code",
   "execution_count": 6,
   "id": "129cf0f6",
   "metadata": {},
   "outputs": [],
   "source": [
    "#2 The packaging system is running wild! The candy is lying loose all over in the warehouse, the cereal is missing,\n",
    "#and bread is stuffed in a bottle. What is going on here? The candy should be in plastic and the bread should be in\n",
    "#a bag.\n",
    "#The packaging machine is running the get_container() function to retrieve the container of a product. But something is not right...\n",
    "#Examples\n",
    "\n",
    "\n",
    "def getContainer(item):\n",
    "    i=item.lower()\n",
    "    if i==\"bread\":\n",
    "        return \"bag\"\n",
    "    elif i==\"beer\":\n",
    "        return \"bottle\"\n",
    "    elif i==\"candy\":\n",
    "        return \"plastic\"\n",
    "    else:\n",
    "        return \"null\""
   ]
  },
  {
   "cell_type": "code",
   "execution_count": 7,
   "id": "f86b0d04",
   "metadata": {},
   "outputs": [
    {
     "data": {
      "text/plain": [
       "'bag'"
      ]
     },
     "execution_count": 7,
     "metadata": {},
     "output_type": "execute_result"
    }
   ],
   "source": [
    "getContainer(\"Bread\")"
   ]
  },
  {
   "cell_type": "code",
   "execution_count": 8,
   "id": "62f79ebd",
   "metadata": {},
   "outputs": [],
   "source": [
    "#3 There has been a masterdata issue which affected the unit of measure of the products. All values need to be\n",
    "#checked if they are valid. The unit of measure is valid when it is either \"L\" (liters), \"PCE\" (pieces) OR when \n",
    "#the product has a comment.\n",
    "\n",
    "def hasValidUnitOfMeasure(d):\n",
    "    if d[\"unitOfMeasure\"]==\"L\" or d[\"unitOfMeasure\"]==\"PCE\":\n",
    "        return True\n",
    "    else:\n",
    "        return False"
   ]
  },
  {
   "cell_type": "code",
   "execution_count": 9,
   "id": "d8c3a35d",
   "metadata": {},
   "outputs": [
    {
     "data": {
      "text/plain": [
       "True"
      ]
     },
     "execution_count": 9,
     "metadata": {},
     "output_type": "execute_result"
    }
   ],
   "source": [
    "hasValidUnitOfMeasure({ \"product\": \"Milk\", \"unitOfMeasure\": \"L\" })"
   ]
  },
  {
   "cell_type": "code",
   "execution_count": 10,
   "id": "1bb58695",
   "metadata": {},
   "outputs": [
    {
     "data": {
      "text/plain": [
       "False"
      ]
     },
     "execution_count": 10,
     "metadata": {},
     "output_type": "execute_result"
    }
   ],
   "source": [
    "hasValidUnitOfMeasure({ \"product\": \"Beer\", \"unitOfMeasure\": \"false\" })"
   ]
  },
  {
   "cell_type": "code",
   "execution_count": 11,
   "id": "06412084",
   "metadata": {},
   "outputs": [],
   "source": [
    "#4 Create a function that goes through the array, incrementing (+1) for each odd-valued number and decrementing \n",
    "#(-1) for each even-valued number.\n",
    "\n",
    "def transform(lst):\n",
    "    l=[]\n",
    "    for x in lst:\n",
    "        if x%2==0:\n",
    "            x-=1\n",
    "            l.append(x)\n",
    "        else:\n",
    "            x+=1\n",
    "            l.append(x)\n",
    "    return l"
   ]
  },
  {
   "cell_type": "code",
   "execution_count": 12,
   "id": "bbbcffd0",
   "metadata": {},
   "outputs": [
    {
     "data": {
      "text/plain": [
       "[2, 1, 4, 3, 6]"
      ]
     },
     "execution_count": 12,
     "metadata": {},
     "output_type": "execute_result"
    }
   ],
   "source": [
    "transform([1, 2, 3, 4, 5])"
   ]
  },
  {
   "cell_type": "code",
   "execution_count": 13,
   "id": "c3a61a7d",
   "metadata": {},
   "outputs": [],
   "source": [
    "#5 Write a function that returns 0 if the input is 1, and returns 1 if the input is 0.\n",
    "#Without using Conditionals, Ternary operators, Negations, Bit operators\n",
    "\n",
    "def flip(n):\n",
    "    d={1:0,0:1}\n",
    "    return d[n]"
   ]
  },
  {
   "cell_type": "code",
   "execution_count": 14,
   "id": "e81148a1",
   "metadata": {},
   "outputs": [
    {
     "data": {
      "text/plain": [
       "0"
      ]
     },
     "execution_count": 14,
     "metadata": {},
     "output_type": "execute_result"
    }
   ],
   "source": [
    "flip(1)"
   ]
  },
  {
   "cell_type": "code",
   "execution_count": 15,
   "id": "9ab668dd",
   "metadata": {},
   "outputs": [
    {
     "data": {
      "text/plain": [
       "1"
      ]
     },
     "execution_count": 15,
     "metadata": {},
     "output_type": "execute_result"
    }
   ],
   "source": [
    "flip(0)"
   ]
  },
  {
   "cell_type": "code",
   "execution_count": 16,
   "id": "d1674f6a",
   "metadata": {},
   "outputs": [],
   "source": [
    "#6 Write a function that returns the number of users in a chatroom based on the following rules:\n",
    "#If there is no one, return \"no one online\".\n",
    "#If there is 1 person, return \"user1 online\".\n",
    "#If there are 2 people, return \"user1 and user2 online\".\n",
    "#If there are n>2 people, return the first two names and add \"and n-2 more online\".\n",
    "\n",
    "def chatroomStatus(l):\n",
    "    if len(l)==0:\n",
    "        return \"no one online\"\n",
    "    elif len(l)==1:\n",
    "        return l[0]+\" online\"\n",
    "    elif len(l)==2:\n",
    "        return \"{} and {} are online\".format(l[0],l[1])\n",
    "    else:\n",
    "        return \"{}, {} and {} more users are online\".format(l[0],l[1],len(l)-2)"
   ]
  },
  {
   "cell_type": "code",
   "execution_count": 17,
   "id": "4c938c14",
   "metadata": {},
   "outputs": [
    {
     "data": {
      "text/plain": [
       "'no one online'"
      ]
     },
     "execution_count": 17,
     "metadata": {},
     "output_type": "execute_result"
    }
   ],
   "source": [
    "chatroomStatus([])"
   ]
  },
  {
   "cell_type": "code",
   "execution_count": 18,
   "id": "d1c6acd4",
   "metadata": {},
   "outputs": [
    {
     "data": {
      "text/plain": [
       "'paRIE_to online'"
      ]
     },
     "execution_count": 18,
     "metadata": {},
     "output_type": "execute_result"
    }
   ],
   "source": [
    "chatroomStatus([\"paRIE_to\"])"
   ]
  },
  {
   "cell_type": "code",
   "execution_count": 19,
   "id": "496fe53a",
   "metadata": {},
   "outputs": [
    {
     "data": {
      "text/plain": [
       "'pap_ier44, townieBOY and 4 more users are online'"
      ]
     },
     "execution_count": 19,
     "metadata": {},
     "output_type": "execute_result"
    }
   ],
   "source": [
    "chatroomStatus([\"pap_ier44\", \"townieBOY\", \"panda321\", \"motor_bike5\", \"sandwichmaker833\", \"violinist91\"])"
   ]
  },
  {
   "cell_type": "code",
   "execution_count": 20,
   "id": "187d8c5f",
   "metadata": {},
   "outputs": [],
   "source": [
    "#7 Create a function that takes a number as its argument and returns a list of all its factors.\n",
    "\n",
    "def factors(n):\n",
    "    l=[];\n",
    "    for x in range(1,n+1):\n",
    "        if n%x==0:\n",
    "            l.append(x)\n",
    "        else:\n",
    "            continue\n",
    "    return l"
   ]
  },
  {
   "cell_type": "code",
   "execution_count": 21,
   "id": "65e1e8c8",
   "metadata": {},
   "outputs": [
    {
     "data": {
      "text/plain": [
       "[1, 2, 3, 4, 6, 12]"
      ]
     },
     "execution_count": 21,
     "metadata": {},
     "output_type": "execute_result"
    }
   ],
   "source": [
    "factors(12)"
   ]
  },
  {
   "cell_type": "code",
   "execution_count": null,
   "id": "6ff7ad2f",
   "metadata": {},
   "outputs": [],
   "source": []
  }
 ],
 "metadata": {
  "kernelspec": {
   "display_name": "Python 3 (ipykernel)",
   "language": "python",
   "name": "python3"
  },
  "language_info": {
   "codemirror_mode": {
    "name": "ipython",
    "version": 3
   },
   "file_extension": ".py",
   "mimetype": "text/x-python",
   "name": "python",
   "nbconvert_exporter": "python",
   "pygments_lexer": "ipython3",
   "version": "3.10.9"
  }
 },
 "nbformat": 4,
 "nbformat_minor": 5
}
