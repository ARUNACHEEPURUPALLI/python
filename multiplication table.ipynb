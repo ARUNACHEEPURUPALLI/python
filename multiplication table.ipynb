{
 "cells": [
  {
   "cell_type": "code",
   "execution_count": null,
   "id": "786fcfe1",
   "metadata": {},
   "outputs": [
    {
     "name": "stdout",
     "output_type": "stream",
     "text": [
      "enter a number:5\n",
      "enter a number:1\n",
      "5\n",
      "enter a number:5\n",
      "enter a number:2\n",
      "10\n",
      "enter a number:5\n",
      "enter a number:3\n",
      "15\n"
     ]
    }
   ],
   "source": [
    " for z in range(1,11):\n",
    "    for x in range(1,11):\n",
    "        x=int(input(\"enter a number:\"))\n",
    "        z=int(input(\"enter a number:\"))\n",
    "        print(x * z)"
   ]
  },
  {
   "cell_type": "code",
   "execution_count": 1,
   "id": "67b6605f",
   "metadata": {},
   "outputs": [
    {
     "name": "stdout",
     "output_type": "stream",
     "text": [
      "which table you want5\n",
      "5*1=5\n",
      "5*2=10\n",
      "5*3=15\n",
      "5*4=20\n",
      "5*5=25\n",
      "5*6=30\n",
      "5*7=35\n",
      "5*8=40\n",
      "5*9=45\n",
      "5*10=50\n"
     ]
    }
   ],
   "source": [
    "table=int(input('which table you want'))\n",
    "\n",
    "for y in range(1,11):\n",
    "    print(\"{}*{}={}\".format(table,y,table*y))"
   ]
  },
  {
   "cell_type": "code",
   "execution_count": 2,
   "id": "f5be67c8",
   "metadata": {},
   "outputs": [
    {
     "name": "stdout",
     "output_type": "stream",
     "text": [
      "which table you want6\n",
      "how many values you want to go20\n",
      "6*1=6\n",
      "6*2=12\n",
      "6*3=18\n",
      "6*4=24\n",
      "6*5=30\n",
      "6*6=36\n",
      "6*7=42\n",
      "6*8=48\n",
      "6*9=54\n",
      "6*10=60\n",
      "6*11=66\n",
      "6*12=72\n",
      "6*13=78\n",
      "6*14=84\n",
      "6*15=90\n",
      "6*16=96\n",
      "6*17=102\n",
      "6*18=108\n",
      "6*19=114\n",
      "6*20=120\n"
     ]
    }
   ],
   "source": [
    "table=int(input(\"which table you want\"))\n",
    "value=int(input(\"how many values you want to go\"))\n",
    "for y in range(1,value+1):\n",
    "    print(\"{}*{}={}\".format(table,y,table*y))"
   ]
  },
  {
   "cell_type": "code",
   "execution_count": 3,
   "id": "3d218243",
   "metadata": {},
   "outputs": [
    {
     "name": "stdout",
     "output_type": "stream",
     "text": [
      "which table you want4\n",
      "how many values you want to go10\n",
      "4*1=4\n",
      "4*2=8\n",
      "4*3=12\n",
      "4*4=16\n",
      "4*5=20\n",
      "4*6=24\n",
      "4*7=28\n",
      "4*8=32\n",
      "4*9=36\n",
      "4*10=40\n"
     ]
    }
   ],
   "source": [
    "table=int(input(\"which table you want\"))\n",
    "value=int(input(\"how many values you want to go\"))\n",
    "for y in range(1,value+1):\n",
    "    print(\"{}*{}={}\".format(table,y,table*y))\n",
    "    "
   ]
  },
  {
   "cell_type": "code",
   "execution_count": null,
   "id": "5589065a",
   "metadata": {},
   "outputs": [],
   "source": []
  }
 ],
 "metadata": {
  "kernelspec": {
   "display_name": "Python 3 (ipykernel)",
   "language": "python",
   "name": "python3"
  },
  "language_info": {
   "codemirror_mode": {
    "name": "ipython",
    "version": 3
   },
   "file_extension": ".py",
   "mimetype": "text/x-python",
   "name": "python",
   "nbconvert_exporter": "python",
   "pygments_lexer": "ipython3",
   "version": "3.10.9"
  }
 },
 "nbformat": 4,
 "nbformat_minor": 5
}
