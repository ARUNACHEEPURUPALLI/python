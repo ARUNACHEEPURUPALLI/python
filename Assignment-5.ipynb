{
 "cells": [
  {
   "cell_type": "code",
   "execution_count": 1,
   "id": "15f9142e",
   "metadata": {},
   "outputs": [
    {
     "name": "stdout",
     "output_type": "stream",
     "text": [
      "Enter the length of the list: 9\n",
      "Enter an integer value: 1\n",
      "Enter an integer value: 2\n",
      "Enter an integer value: 3\n",
      "Enter an integer value: 4\n",
      "Enter an integer value: 5\n",
      "Enter an integer value: 6\n",
      "Enter an integer value: 7\n",
      "Enter an integer value: 8\n",
      "Enter an integer value: 9\n",
      "[1, 2, 3, 4, 5, 6, 7, 8, 9]\n",
      "[1, 2, 3, 4, 5, 6, 7, 8, 9]\n"
     ]
    }
   ],
   "source": [
    "#1. Given a list of numbers, write a python program that returns a new list which Has all duplicate elements removed. \n",
    "#And is sorted in an increasing order.\n",
    "#Ex: Input: [2,1,3,4,2,3,3,2,7,9,8,7]\n",
    "#Output: [1,2,3,4,7,8,9]\n",
    "\n",
    "l=[];\n",
    "a=int(input(\"Enter the length of the list: \"))\n",
    "for x in range(0,a):\n",
    "    l.append(int(input(\"Enter an integer value: \")))\n",
    "print(l)\n",
    "for y in l:\n",
    "    if l.count(y)>1:\n",
    "        l.remove(y) \n",
    "    else:\n",
    "        continue\n",
    "l.sort()\n",
    "print(l)"
   ]
  },
  {
   "cell_type": "code",
   "execution_count": 1,
   "id": "d83df601",
   "metadata": {},
   "outputs": [
    {
     "name": "stdout",
     "output_type": "stream",
     "text": [
      "Enter the length of the dictionary: 4\n",
      "Enter the key: 1\n",
      "Enter the value: abcd\n",
      "Enter the key: 2\n",
      "Enter the value: 23\n",
      "Enter the key: 3\n",
      "Enter the value: hello\n",
      "Enter the key: 4\n",
      "Enter the value: 22\n",
      "\n",
      "Key:  1 \tValue:  abcd\n",
      "Key:  2 \tValue:  23\n",
      "Key:  3 \tValue:  hello\n",
      "Key:  4 \tValue:  22\n"
     ]
    }
   ],
   "source": [
    "#2. Write a Python program where you will iterate over both keys and values in dictionaries.\n",
    "\n",
    "a=int(input(\"Enter the length of the dictionary: \"))\n",
    "d={}\n",
    "for x in range(0,a):\n",
    "    k=input(\"Enter the key: \")\n",
    "    v=input(\"Enter the value: \")\n",
    "    d.update({k:v})\n",
    "print()\n",
    "for p,q in d.items():\n",
    "    print(\"Key: \",p,\"\\tValue: \",q)"
   ]
  },
  {
   "cell_type": "code",
   "execution_count": 2,
   "id": "a6ffc9e7",
   "metadata": {},
   "outputs": [
    {
     "name": "stdout",
     "output_type": "stream",
     "text": [
      "Enter the number of students: 3\n",
      "Enter the student name : Tarun\n",
      "Enter the student name : Manoj\n",
      "Enter the student name : Gephi\n",
      "Input:  {'Student1': 'Tarun', 'Student2': 'Manoj', 'Student3': 'Gephi'} \n",
      "\n",
      "['Gephi', 'Manoj', 'Tarun']\n"
     ]
    }
   ],
   "source": [
    "#3. Write a Python program that takes a dictionary of student names and returns a list of student names in alphabetical order\n",
    "#Ex: Input: {“Student 1”: \"Tarun\", \"Student 2”: \"Manoj\", \"Student 3”: \"Gephi”}\n",
    "#Output:[“Gephi”,”Manoj”,” Tarun”]\n",
    "\n",
    "a=int(input(\"Enter the number of students: \"))\n",
    "d={};l=[]\n",
    "for x in range(0,a):\n",
    "    k=\"Student\"+str(x+1)\n",
    "    v=input(\"Enter the student name : \")\n",
    "    d.update({k:v})\n",
    "print(\"Input: \",d,\"\\n\")\n",
    "for p in d.values():\n",
    "    l.append(p)\n",
    "l.sort()\n",
    "print(l)"
   ]
  },
  {
   "cell_type": "code",
   "execution_count": 3,
   "id": "e5f1e0c8",
   "metadata": {},
   "outputs": [
    {
     "name": "stdout",
     "output_type": "stream",
     "text": [
      "Enter a string containing 0's and 1's: 0100101\n",
      "['False', 'True', 'False', 'False', 'True', 'False', 'True']\n"
     ]
    }
   ],
   "source": [
    "#4.Write a Python which returns a new list of Booleans, from a given number. Iterating through the number one digit at a time, append True if the digit is 1 and False if it is 0.\n",
    "#Ex: Input: “01001”\n",
    "#Output: [“False”, “True”, “False”,” False”,” True”]\n",
    "\n",
    "l=[]\n",
    "a=input(\"Enter a string containing 0's and 1's: \")\n",
    "for x in a:\n",
    "    if x==\"1\":\n",
    "        l.append(\"True\")\n",
    "    else:\n",
    "        l.append(\"False\")\n",
    "print(l)"
   ]
  },
  {
   "cell_type": "code",
   "execution_count": 4,
   "id": "59168d18",
   "metadata": {},
   "outputs": [
    {
     "name": "stdout",
     "output_type": "stream",
     "text": [
      "Enter a string: my name is hi\n",
      "{'m': 2, 'y': 1, 'n': 1, 'a': 1, 'e': 1, 'i': 2, 's': 1, 'h': 1}\n"
     ]
    }
   ],
   "source": [
    "#5. Write a Python program where you will return a dictionary where the keys will be the character and \n",
    "#the values will be the occurrence of the character in the string, and it should for any string inputs (dynamic).\n",
    "#Ex: Input: “my name is ame”\n",
    "#Output: {“m”:3,” y”:1,” n”:1,” a”:2,” e”:2,” i”:1,” s”:1}\n",
    "\n",
    "d={};\n",
    "a=input(\"Enter a string: \")\n",
    "for x in a:\n",
    "    if not(x==\" \"):\n",
    "        d.update({x:a.count(x)})\n",
    "    else:\n",
    "        continue\n",
    "print(d)"
   ]
  },
  {
   "cell_type": "code",
   "execution_count": 5,
   "id": "39eb3d54",
   "metadata": {},
   "outputs": [
    {
     "name": "stdout",
     "output_type": "stream",
     "text": [
      "Enter the length of the dictionary: 4\n",
      "Enter name: tmma\n",
      "Enter age: 41\n",
      "Enter name: ackes\n",
      "Enter age: 45\n",
      "Enter name: myna\n",
      "Enter age: 15\n",
      "Enter name: benthon\n",
      "Enter age: 29\n",
      "\n",
      "Input:  {'tmma': 41, 'ackes': 45, 'myna': 15, 'benthon': 29}\n",
      "ackes\n"
     ]
    }
   ],
   "source": [
    "#6.Given a dictionary containing the names and ages of a group of people, return the name of the oldest person.\n",
    "#Ex: Input:{\"Tmma\": 41, \"Ackes\": 45, \"myna\": 15, \"Benthon\": 29}\n",
    "#Output:\"Ackes\"\n",
    "\n",
    "d={};e=0;f=''\n",
    "a=int(input(\"Enter the length of the dictionary: \"))\n",
    "for x in range(0,a):\n",
    "    k=input(\"Enter name: \")\n",
    "    v=int(input(\"Enter age: \"))\n",
    "    d.update({k:v})\n",
    "print(\"\\nInput: \",d)\n",
    "for m,n in d.items():\n",
    "    if e<n:\n",
    "        e=n\n",
    "        f=m\n",
    "print(f)"
   ]
  },
  {
   "cell_type": "code",
   "execution_count": 6,
   "id": "ab833d21",
   "metadata": {},
   "outputs": [
    {
     "name": "stdout",
     "output_type": "stream",
     "text": [
      "Press s to start the game: s\n",
      "Player1\n",
      "Choose from rock,paper and scissor: rock\n",
      "Player2\n",
      "Choose from rock,paper and scissor: s\n",
      "Player 2 won!\n",
      "Press s to continue the game scissor\n"
     ]
    }
   ],
   "source": [
    "#7.Write a Python program to create a Rock, Paper, Scissor game, use two inputs for two players:\n",
    "#Conditions: -Rock beats Scissors, Scissors beats Paper, Paper beats Rock\n",
    "\n",
    "y=input(\"Press s to start the game: \")\n",
    "while y==\"s\" or y==\"S\":\n",
    "    p1=input(\"Player1\\nChoose from rock,paper and scissor: \")\n",
    "    p2=input(\"Player2\\nChoose from rock,paper and scissor: \")\n",
    "    if (p1==\"rock\" and p2==\"paper\") or (p1==\"paper\" and p2==\"scissors\") or (p1==\"scissors\" and p2==\"rock\"):\n",
    "        print(\"Player 1 won!\")\n",
    "    elif p1==p2:\n",
    "        print(\"It is tie\")\n",
    "    else:\n",
    "        print(\"Player 2 won!\")\n",
    "    y=input(\"Press s to continue the game \")"
   ]
  },
  {
   "cell_type": "code",
   "execution_count": 7,
   "id": "22e82468",
   "metadata": {},
   "outputs": [
    {
     "name": "stdout",
     "output_type": "stream",
     "text": [
      "Enter the money you have in wallet: 50\n",
      "\n",
      "Your wallet balance:  50\n",
      "['water bottles', 'Chips']\n"
     ]
    }
   ],
   "source": [
    "#8. Create a program that returns a list of items that you can afford in the store with the money you have in your wallet. \n",
    "#Create a dictionary with items as key and price as values.\n",
    "#Ex: Input: {\"water bottles\":20,\"Chips\":10,\"Iphone\":49000,\"towel\":90,\"pens\":58,\"cake\":400}\n",
    "#Your wallet balance:- 50\n",
    "#Output: [“water bottles”, “chips”]\n",
    "\n",
    "store={\"water bottles\":20,\"Chips\":10,\"Iphone\":49000,\"towel\":90,\"pens\":58,\"cake\":400}\n",
    "wallet=int(input(\"Enter the money you have in wallet: \"))\n",
    "s=0;l=[]\n",
    "for x,y in store.items():\n",
    "    s+=y\n",
    "    if s<wallet:\n",
    "        l.append(x)\n",
    "print(\"\\nYour wallet balance: \",wallet)\n",
    "print(l)"
   ]
  },
  {
   "cell_type": "code",
   "execution_count": 8,
   "id": "8896ab08",
   "metadata": {},
   "outputs": [
    {
     "name": "stdout",
     "output_type": "stream",
     "text": [
      "Enter the length of set1 5\n",
      "Enter a value: 4\n",
      "Enter a value: 1\n",
      "Enter a value: 2\n",
      "Enter a value: 6\n",
      "Enter a value: 8\n",
      "Enter the length of set2 4\n",
      "Enter a value: 2\n",
      "Enter a value: 23\n",
      "Enter a value: 23\n",
      "Enter a value: 2.2\n",
      "{'2', '1', '2.2', '23', '8', '6', '4'}\n"
     ]
    }
   ],
   "source": [
    "#9. Write a Python program to create a union of sets.\n",
    "\n",
    "set1=set();set2=set()\n",
    "a=int(input(\"Enter the length of set1 \"))\n",
    "for x in range(0,a):\n",
    "    p=input(\"Enter a value: \")\n",
    "    set1.add(p)\n",
    "b=int(input(\"Enter the length of set2 \"))\n",
    "for y in range(0,b):\n",
    "    q=input(\"Enter a value: \")\n",
    "    set2.add(q)\n",
    "print(set1.union(set2))"
   ]
  },
  {
   "cell_type": "code",
   "execution_count": 9,
   "id": "a2cc8469",
   "metadata": {},
   "outputs": [
    {
     "name": "stdout",
     "output_type": "stream",
     "text": [
      "Enter the length of the set: 3\n",
      "Enter a value: ab\n",
      "Enter a value: 2\n",
      "Enter a value: 1\n",
      "\n",
      "Enter the value you want to check: c\n",
      "c not found.\n"
     ]
    }
   ],
   "source": [
    "#10.Write a Python program to check if a given value is present in a set or not(Dynamic)\n",
    "\n",
    "set1=set()\n",
    "a=int(input(\"Enter the length of the set: \"))\n",
    "for x in range(0,a):\n",
    "    p=input(\"Enter a value: \")\n",
    "    set1.update(p)\n",
    "b=input(\"\\nEnter the value you want to check: \")\n",
    "if b in set1:\n",
    "    print(b,\"is presnt.\")\n",
    "else:\n",
    "    print(b,\"not found.\")"
   ]
  },
  {
   "cell_type": "code",
   "execution_count": 1,
   "id": "cf041740",
   "metadata": {},
   "outputs": [
    {
     "name": "stdout",
     "output_type": "stream",
     "text": [
      "Enter the length of the dictionary: 3\n",
      "Enter the subject: mat\n",
      "Enter the marks: 90\n",
      "Enter the subject: sci\n",
      "Enter the marks: 88\n",
      "Enter the subject: hindi\n",
      "Enter the marks: 90\n",
      "Subject: \tMarks:\n",
      "\n",
      "mat \t\t 90\n",
      "sci \t\t 88\n",
      "hindi \t\t 90\n"
     ]
    }
   ],
   "source": [
    "#12. Write a python program that accepts name of given subject and mark, and make subject as keys in dictionaries \n",
    "#and marks as values and print the final dictionary with subjects and marks.\n",
    "\n",
    "d={}\n",
    "l=int(input(\"Enter the length of the dictionary: \"))\n",
    "for z in range(0,l):\n",
    "    k=input(\"Enter the subject: \")\n",
    "    v=int(input(\"Enter the marks: \"))\n",
    "    d.update({k:v})\n",
    "print(\"Subject:\",\"\\tMarks:\\n\")\n",
    "for x,y in d.items():\n",
    "    print(x,\"\\t\\t\",y)"
   ]
  },
  {
   "cell_type": "code",
   "execution_count": null,
   "id": "efeb5b80",
   "metadata": {},
   "outputs": [],
   "source": []
  },
  {
   "cell_type": "code",
   "execution_count": null,
   "id": "af516189",
   "metadata": {},
   "outputs": [],
   "source": []
  }
 ],
 "metadata": {
  "kernelspec": {
   "display_name": "Python 3 (ipykernel)",
   "language": "python",
   "name": "python3"
  },
  "language_info": {
   "codemirror_mode": {
    "name": "ipython",
    "version": 3
   },
   "file_extension": ".py",
   "mimetype": "text/x-python",
   "name": "python",
   "nbconvert_exporter": "python",
   "pygments_lexer": "ipython3",
   "version": "3.10.9"
  }
 },
 "nbformat": 4,
 "nbformat_minor": 5
}
