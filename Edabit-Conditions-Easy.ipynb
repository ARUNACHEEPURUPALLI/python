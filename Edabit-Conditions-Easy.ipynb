{
 "cells": [
  {
   "cell_type": "code",
   "execution_count": 1,
   "id": "814697e2",
   "metadata": {},
   "outputs": [],
   "source": [
    "#1 Luke Skywalker has family and friends. Help him remind them who is who. Given a string with a name, return the \n",
    "#relation of that person to Luke.\n",
    "# Person \tRelation\n",
    "# Darth Vader\tfather\n",
    "# Leia\t sister\n",
    "# Han\t brother in law\n",
    "# R2D2\t droid\n",
    "\n",
    "def relation_to_luke(name):\n",
    "    relation={\"darth vader\":\"father\",\"leia\":\"sister\",\"han\":\"brother in law\",\"r2d2\":\"droid\"}\n",
    "    for x in relation:\n",
    "        if name.lower()==x:\n",
    "            return (\"Luke, I am your {}.\".format(relation[x]))\n",
    "        else:\n",
    "            continue"
   ]
  },
  {
   "cell_type": "code",
   "execution_count": 2,
   "id": "28a6fd02",
   "metadata": {},
   "outputs": [
    {
     "data": {
      "text/plain": [
       "'Luke, I am your father.'"
      ]
     },
     "execution_count": 2,
     "metadata": {},
     "output_type": "execute_result"
    }
   ],
   "source": [
    "relation_to_luke(\"Darth Vader\")"
   ]
  },
  {
   "cell_type": "code",
   "execution_count": 3,
   "id": "70787672",
   "metadata": {},
   "outputs": [
    {
     "data": {
      "text/plain": [
       "'Luke, I am your sister.'"
      ]
     },
     "execution_count": 3,
     "metadata": {},
     "output_type": "execute_result"
    }
   ],
   "source": [
    "relation_to_luke(\"Leia\")"
   ]
  },
  {
   "cell_type": "code",
   "execution_count": 4,
   "id": "511f13b2",
   "metadata": {},
   "outputs": [],
   "source": [
    "#2 Create a function that takes damage and speed (attacks per second) and returns the amount of damage after a \n",
    "#given time.\n",
    "\n",
    "def damage(d,s,t):\n",
    "    if d>=0 and s>=0:\n",
    "        if t.lower()==\"second\":\n",
    "            return d*s\n",
    "        elif t.lower()==\"minute\":\n",
    "            return d*s*60\n",
    "        else:\n",
    "            return d*s*3600\n",
    "    else:\n",
    "        return \"invalid input\""
   ]
  },
  {
   "cell_type": "code",
   "execution_count": 5,
   "id": "cae35c64",
   "metadata": {},
   "outputs": [
    {
     "data": {
      "text/plain": [
       "200"
      ]
     },
     "execution_count": 5,
     "metadata": {},
     "output_type": "execute_result"
    }
   ],
   "source": [
    "damage(40, 5, \"second\")"
   ]
  },
  {
   "cell_type": "code",
   "execution_count": 6,
   "id": "f32471b2",
   "metadata": {},
   "outputs": [
    {
     "data": {
      "text/plain": [
       "6000"
      ]
     },
     "execution_count": 6,
     "metadata": {},
     "output_type": "execute_result"
    }
   ],
   "source": [
    "damage(100, 1, \"minute\")"
   ]
  },
  {
   "cell_type": "code",
   "execution_count": 7,
   "id": "89424cd1",
   "metadata": {},
   "outputs": [
    {
     "data": {
      "text/plain": [
       "720000"
      ]
     },
     "execution_count": 7,
     "metadata": {},
     "output_type": "execute_result"
    }
   ],
   "source": [
    "damage(2, 100, \"hour\")"
   ]
  },
  {
   "cell_type": "code",
   "execution_count": 8,
   "id": "3cdbfc35",
   "metadata": {},
   "outputs": [],
   "source": [
    "#3 Create a function that takes a number as input and returns True if the sum of its digits has the same parity as\n",
    "#the entire number. Otherwise, return False.\n",
    "\n",
    "def parity_analysis(n):\n",
    "    m=n;s=0\n",
    "    if n/10<0:\n",
    "        return True\n",
    "    else:\n",
    "        while n>=1:\n",
    "            a=n%10\n",
    "            s+=a\n",
    "            n//=10\n",
    "        return (m%2==s%2)"
   ]
  },
  {
   "cell_type": "code",
   "execution_count": 9,
   "id": "37412e4f",
   "metadata": {},
   "outputs": [
    {
     "data": {
      "text/plain": [
       "True"
      ]
     },
     "execution_count": 9,
     "metadata": {},
     "output_type": "execute_result"
    }
   ],
   "source": [
    "parity_analysis(243)"
   ]
  },
  {
   "cell_type": "code",
   "execution_count": 10,
   "id": "4341b8d0",
   "metadata": {},
   "outputs": [
    {
     "data": {
      "text/plain": [
       "False"
      ]
     },
     "execution_count": 10,
     "metadata": {},
     "output_type": "execute_result"
    }
   ],
   "source": [
    "parity_analysis(12)"
   ]
  },
  {
   "cell_type": "code",
   "execution_count": 14,
   "id": "bbd8602f",
   "metadata": {},
   "outputs": [
    {
     "data": {
      "text/plain": [
       "True"
      ]
     },
     "execution_count": 14,
     "metadata": {},
     "output_type": "execute_result"
    }
   ],
   "source": [
    "parity_analysis(3)"
   ]
  },
  {
   "cell_type": "code",
   "execution_count": 12,
   "id": "ff0cfb0b",
   "metadata": {},
   "outputs": [],
   "source": [
    "#4 Create a function that takes a string, checks if it has the same number of \"x\"s and \"o\"s and returns either \n",
    "#True or False.\n",
    "#Return a boolean value (True or False).\n",
    "#Return True if the amount of x's and o's are the same.\n",
    "#Return False if they aren't the same amount.\n",
    "#The string can contain any character.\n",
    "#When \"x\" and \"o\" are not in the string, return True.\n",
    "\n",
    "def XO(s):\n",
    "    x=0;o=0\n",
    "    for y in s:\n",
    "        if y.lower()==\"x\":\n",
    "            x+=1\n",
    "        elif y.lower()==\"o\":\n",
    "            o+=1\n",
    "        else:\n",
    "            continue\n",
    "    return (x==o)\n"
   ]
  },
  {
   "cell_type": "code",
   "execution_count": 13,
   "id": "f5366cba",
   "metadata": {},
   "outputs": [
    {
     "data": {
      "text/plain": [
       "True"
      ]
     },
     "execution_count": 13,
     "metadata": {},
     "output_type": "execute_result"
    }
   ],
   "source": [
    "XO(\"ooxx\")"
   ]
  },
  {
   "cell_type": "code",
   "execution_count": 15,
   "id": "2d5cc2d2",
   "metadata": {},
   "outputs": [
    {
     "data": {
      "text/plain": [
       "False"
      ]
     },
     "execution_count": 15,
     "metadata": {},
     "output_type": "execute_result"
    }
   ],
   "source": [
    "XO(\"xooxx\")\n"
   ]
  },
  {
   "cell_type": "code",
   "execution_count": 16,
   "id": "f7767353",
   "metadata": {},
   "outputs": [
    {
     "data": {
      "text/plain": [
       "True"
      ]
     },
     "execution_count": 16,
     "metadata": {},
     "output_type": "execute_result"
    }
   ],
   "source": [
    "XO(\"ooxXm\") "
   ]
  },
  {
   "cell_type": "code",
   "execution_count": 17,
   "id": "9818db87",
   "metadata": {},
   "outputs": [
    {
     "data": {
      "text/plain": [
       "True"
      ]
     },
     "execution_count": 17,
     "metadata": {},
     "output_type": "execute_result"
    }
   ],
   "source": [
    "XO(\"zpzpzpp\")"
   ]
  },
  {
   "cell_type": "code",
   "execution_count": 18,
   "id": "69cddc76",
   "metadata": {},
   "outputs": [
    {
     "data": {
      "text/plain": [
       "False"
      ]
     },
     "execution_count": 18,
     "metadata": {},
     "output_type": "execute_result"
    }
   ],
   "source": [
    "XO(\"zzoo\")"
   ]
  },
  {
   "cell_type": "code",
   "execution_count": 19,
   "id": "0d929883",
   "metadata": {},
   "outputs": [],
   "source": [
    "#5 Create a function that reverses a boolean value and returns the string \"boolean expected\" if another variable\n",
    "#type is given.\n",
    "\n",
    "def reverse(b):\n",
    "    if type(b)==bool:\n",
    "        return not(b)\n",
    "    else:\n",
    "        return \"boolean expected\""
   ]
  },
  {
   "cell_type": "code",
   "execution_count": 20,
   "id": "33317fb4",
   "metadata": {},
   "outputs": [
    {
     "data": {
      "text/plain": [
       "False"
      ]
     },
     "execution_count": 20,
     "metadata": {},
     "output_type": "execute_result"
    }
   ],
   "source": [
    "reverse(True) \n"
   ]
  },
  {
   "cell_type": "code",
   "execution_count": 21,
   "id": "0d5bf7af",
   "metadata": {},
   "outputs": [
    {
     "data": {
      "text/plain": [
       "True"
      ]
     },
     "execution_count": 21,
     "metadata": {},
     "output_type": "execute_result"
    }
   ],
   "source": [
    "reverse(False)"
   ]
  },
  {
   "cell_type": "code",
   "execution_count": 22,
   "id": "ccf60bfd",
   "metadata": {},
   "outputs": [
    {
     "data": {
      "text/plain": [
       "'boolean expected'"
      ]
     },
     "execution_count": 22,
     "metadata": {},
     "output_type": "execute_result"
    }
   ],
   "source": [
    "reverse(0)"
   ]
  },
  {
   "cell_type": "code",
   "execution_count": 23,
   "id": "cffc9e26",
   "metadata": {},
   "outputs": [
    {
     "data": {
      "text/plain": [
       "'boolean expected'"
      ]
     },
     "execution_count": 23,
     "metadata": {},
     "output_type": "execute_result"
    }
   ],
   "source": [
    "reverse(None)"
   ]
  },
  {
   "cell_type": "code",
   "execution_count": 24,
   "id": "ce46e0a4",
   "metadata": {},
   "outputs": [],
   "source": [
    "#6 Using list comprehensions, create a function that finds all even numbers from 1 to the given number.\n",
    "\n",
    "def find_even_nums(n):\n",
    "    l=[]\n",
    "    for x in range(1,n+1):\n",
    "        if x%2==0:\n",
    "            l.append(x)\n",
    "        else:\n",
    "            continue\n",
    "    return l\n"
   ]
  },
  {
   "cell_type": "code",
   "execution_count": 25,
   "id": "383c2897",
   "metadata": {},
   "outputs": [
    {
     "data": {
      "text/plain": [
       "[2, 4, 6, 8]"
      ]
     },
     "execution_count": 25,
     "metadata": {},
     "output_type": "execute_result"
    }
   ],
   "source": [
    "find_even_nums(8)"
   ]
  },
  {
   "cell_type": "code",
   "execution_count": 26,
   "id": "ee9bf691",
   "metadata": {},
   "outputs": [],
   "source": [
    "#7 Create a function that takes a list of strings and integers, and filters out the list so that it returns a \n",
    "#list of integers only.\n",
    "\n",
    "def filter_list(lst):\n",
    "    l=[]\n",
    "    for x in lst:\n",
    "        if type(x)==int:\n",
    "            l.append(x)\n",
    "        else:\n",
    "            continue\n",
    "    return l\n"
   ]
  },
  {
   "cell_type": "code",
   "execution_count": 27,
   "id": "5bc985fb",
   "metadata": {},
   "outputs": [
    {
     "data": {
      "text/plain": [
       "[1, 2, 3, 4]"
      ]
     },
     "execution_count": 27,
     "metadata": {},
     "output_type": "execute_result"
    }
   ],
   "source": [
    "filter_list([1, 2, 3, \"a\", \"b\", 4])"
   ]
  },
  {
   "cell_type": "code",
   "execution_count": 28,
   "id": "ec71caa6",
   "metadata": {},
   "outputs": [
    {
     "data": {
      "text/plain": [
       "[0, 1729]"
      ]
     },
     "execution_count": 28,
     "metadata": {},
     "output_type": "execute_result"
    }
   ],
   "source": [
    "filter_list([\"A\", 0, \"Edabit\", 1729, \"Python\", \"1729\"])"
   ]
  },
  {
   "cell_type": "code",
   "execution_count": 29,
   "id": "f51eaa8f",
   "metadata": {},
   "outputs": [],
   "source": [
    "#8 Write a function that takes a list and a number as arguments. Add the number to the end of the list, then \n",
    "#remove the first element of the list. The function should then return the updated list.\n",
    "\n",
    "def next_in_line(l,n):\n",
    "    if len(l)>0:\n",
    "        l.append(n)\n",
    "        l.pop(0)\n",
    "        return l\n",
    "    else:\n",
    "        return \"No list has been selected\"\n"
   ]
  },
  {
   "cell_type": "code",
   "execution_count": 30,
   "id": "51e746b1",
   "metadata": {},
   "outputs": [
    {
     "data": {
      "text/plain": [
       "[6, 7, 8, 9, 1]"
      ]
     },
     "execution_count": 30,
     "metadata": {},
     "output_type": "execute_result"
    }
   ],
   "source": [
    "next_in_line([5, 6, 7, 8, 9], 1)"
   ]
  },
  {
   "cell_type": "code",
   "execution_count": 31,
   "id": "89166dd4",
   "metadata": {},
   "outputs": [
    {
     "data": {
      "text/plain": [
       "'No list has been selected'"
      ]
     },
     "execution_count": 31,
     "metadata": {},
     "output_type": "execute_result"
    }
   ],
   "source": [
    "next_in_line([], 6)"
   ]
  },
  {
   "cell_type": "code",
   "execution_count": 32,
   "id": "8824d5cd",
   "metadata": {},
   "outputs": [],
   "source": [
    "#9 In BlackJack, cards are counted with -1, 0, 1 values:\n",
    "#2, 3, 4, 5, 6 are counted as +1\n",
    "#7, 8, 9 are counted as 0\n",
    "#10, J, Q, K, A are counted as -1\n",
    "#Create a function that counts the number and returns it from the list of cards provided.\n",
    "\n",
    "def count(lst):\n",
    "    c=0\n",
    "    for x in lst:\n",
    "        if x==10 or x==\"J\" or x==\"Q\" or x==\"K\" or x==\"A\":\n",
    "            c+=-1\n",
    "        elif x>=2 and x<=6:\n",
    "            c+=1\n",
    "        else:\n",
    "            continue\n",
    "    return c\n"
   ]
  },
  {
   "cell_type": "code",
   "execution_count": 33,
   "id": "843dc6fb",
   "metadata": {},
   "outputs": [
    {
     "data": {
      "text/plain": [
       "1"
      ]
     },
     "execution_count": 33,
     "metadata": {},
     "output_type": "execute_result"
    }
   ],
   "source": [
    "count([5, 9, 10, 3, \"J\", \"A\", 4, 8, 5])"
   ]
  },
  {
   "cell_type": "code",
   "execution_count": 34,
   "id": "d4053137",
   "metadata": {},
   "outputs": [
    {
     "data": {
      "text/plain": [
       "-6"
      ]
     },
     "execution_count": 34,
     "metadata": {},
     "output_type": "execute_result"
    }
   ],
   "source": [
    "count([\"A\", \"A\", \"K\", \"Q\", \"Q\", \"J\"])\n",
    "-6"
   ]
  },
  {
   "cell_type": "code",
   "execution_count": 35,
   "id": "fe9a190a",
   "metadata": {},
   "outputs": [
    {
     "data": {
      "text/plain": [
       "5"
      ]
     },
     "execution_count": 35,
     "metadata": {},
     "output_type": "execute_result"
    }
   ],
   "source": [
    "count([\"A\", 5, 5, 2, 6, 2, 3, 8, 9, 7])"
   ]
  },
  {
   "cell_type": "code",
   "execution_count": 36,
   "id": "f0950827",
   "metadata": {},
   "outputs": [],
   "source": [
    "#10 Wild Roger is participating in a Western Showdown, meaning he has to draw (pull out and shoot) his gun faster \n",
    "#than his opponent in a gun standoff. Given two strings,p1 and p2, return which person drew their gun the fastest.\n",
    "#If both are drawn at the same time, return \"tie\".\n",
    "\n",
    "def showdown(p1,p2):\n",
    "    if p1.lower().find(\"b\")>p2.lower().find(\"b\"):\n",
    "        return \"p2\"\n",
    "    elif p1.lower().find(\"b\")<p2.lower().find(\"b\"):\n",
    "        return \"p1\"\n",
    "    else:\n",
    "        return \"Tie\"\n"
   ]
  },
  {
   "cell_type": "code",
   "execution_count": 37,
   "id": "36e8361d",
   "metadata": {},
   "outputs": [
    {
     "data": {
      "text/plain": [
       "'p1'"
      ]
     },
     "execution_count": 37,
     "metadata": {},
     "output_type": "execute_result"
    }
   ],
   "source": [
    "showdown(\"   Bang!        \",\"        Bang!   \")"
   ]
  },
  {
   "cell_type": "code",
   "execution_count": 39,
   "id": "142445b6",
   "metadata": {},
   "outputs": [],
   "source": [
    "#13 Create a function that takes a number as an argument and returns True or False depending on whether the number\n",
    "#is symmetrical or not. A number is symmetrical when it is the same as its reverse.\n",
    "\n",
    "def is_symmetrical(n):\n",
    "    num=str(n)\n",
    "    return num==num[::-1]\n"
   ]
  },
  {
   "cell_type": "code",
   "execution_count": 40,
   "id": "2c097147",
   "metadata": {},
   "outputs": [
    {
     "data": {
      "text/plain": [
       "True"
      ]
     },
     "execution_count": 40,
     "metadata": {},
     "output_type": "execute_result"
    }
   ],
   "source": [
    "is_symmetrical(7227)"
   ]
  },
  {
   "cell_type": "code",
   "execution_count": 41,
   "id": "6bf5e7ce",
   "metadata": {},
   "outputs": [],
   "source": [
    "#13 Write a function that returns the strings:\n",
    "#\"both\" if both given booleans a and b are True.\n",
    "#\"first\" if only a is True.\n",
    "#\"second\" if only b is True .\n",
    "#\"neither\" if both a and b are False.\n",
    "\n",
    "def True_or_False(a,b):\n",
    "    if a==True and b==True:\n",
    "        return \"both\"\n",
    "    elif a==True:\n",
    "        return \"first\"\n",
    "    elif b==True:\n",
    "        return \"second\"\n",
    "    else:\n",
    "        return \"neither\"\n"
   ]
  },
  {
   "cell_type": "code",
   "execution_count": 42,
   "id": "57d71db4",
   "metadata": {},
   "outputs": [
    {
     "data": {
      "text/plain": [
       "'first'"
      ]
     },
     "execution_count": 42,
     "metadata": {},
     "output_type": "execute_result"
    }
   ],
   "source": [
    "True_or_False(True,False)"
   ]
  },
  {
   "cell_type": "code",
   "execution_count": 44,
   "id": "92b34fb2",
   "metadata": {},
   "outputs": [],
   "source": [
    "#14 I'm trying to watch some lectures to study for my next exam but I keep getting distracted by meme compilations,\n",
    "#vine compilations, anime, and more on my favorite video platform.Your job is to help me create a function that\n",
    "#takes a string and checks to see if it contains the following words or phrases:\n",
    "#\"anime\"\n",
    "#\"meme\"\n",
    "#\"vines\"\n",
    "#\"roasts\"\n",
    "#\"Danny DeVito\"\n",
    "#If it does, return \"NO!\". Otherwise, return \"Safe watching!\".\n",
    "\n",
    "def prevent_distractions(strin):\n",
    "    x=strin.lower()\n",
    "    l=x.split()\n",
    "    c=0\n",
    "    for s in l:\n",
    "        if s==\"anime\" or s==\"meme\" or s==\"vines\" or s==\"roasts\" or s==\"danny\" or s==\"devito\":\n",
    "            c+=1\n",
    "        else:\n",
    "            continue\n",
    "    if c>0:\n",
    "        return \"NO!\"\n",
    "    else:\n",
    "        return \"Safe watching!\""
   ]
  },
  {
   "cell_type": "code",
   "execution_count": 45,
   "id": "35f28b74",
   "metadata": {},
   "outputs": [
    {
     "data": {
      "text/plain": [
       "'NO!'"
      ]
     },
     "execution_count": 45,
     "metadata": {},
     "output_type": "execute_result"
    }
   ],
   "source": [
    "prevent_distractions(\"vines that butter my eggroll\")"
   ]
  },
  {
   "cell_type": "code",
   "execution_count": 46,
   "id": "634d6892",
   "metadata": {},
   "outputs": [
    {
     "data": {
      "text/plain": [
       "'NO!'"
      ]
     },
     "execution_count": 46,
     "metadata": {},
     "output_type": "execute_result"
    }
   ],
   "source": [
    "prevent_distractions(\"Hot pictures of Danny DeVito\")"
   ]
  },
  {
   "cell_type": "code",
   "execution_count": 47,
   "id": "aa093108",
   "metadata": {},
   "outputs": [
    {
     "data": {
      "text/plain": [
       "'Safe watching!'"
      ]
     },
     "execution_count": 47,
     "metadata": {},
     "output_type": "execute_result"
    }
   ],
   "source": [
    "prevent_distractions(\"How to ace BC Calculus in 5 Easy Steps\")"
   ]
  },
  {
   "cell_type": "code",
   "execution_count": 48,
   "id": "f5d592dd",
   "metadata": {},
   "outputs": [],
   "source": [
    "#15 Create a function that takes three integer arguments (a, b, c) and returns the amount of integers which are of\n",
    "#equal value.\n",
    "\n",
    "def equal(a,b,c):\n",
    "    if a==b==c:\n",
    "        return 3\n",
    "    elif a==b or b==c or c==a:\n",
    "        return 2\n",
    "    else:\n",
    "        return 0\n"
   ]
  },
  {
   "cell_type": "code",
   "execution_count": 49,
   "id": "e381d2cd",
   "metadata": {},
   "outputs": [
    {
     "data": {
      "text/plain": [
       "2"
      ]
     },
     "execution_count": 49,
     "metadata": {},
     "output_type": "execute_result"
    }
   ],
   "source": [
    "equal(3, 4, 3)"
   ]
  },
  {
   "cell_type": "code",
   "execution_count": 50,
   "id": "36c1fe3a",
   "metadata": {},
   "outputs": [
    {
     "data": {
      "text/plain": [
       "3"
      ]
     },
     "execution_count": 50,
     "metadata": {},
     "output_type": "execute_result"
    }
   ],
   "source": [
    "equal(1, 1, 1)"
   ]
  },
  {
   "cell_type": "code",
   "execution_count": 51,
   "id": "10f9f0a0",
   "metadata": {},
   "outputs": [
    {
     "data": {
      "text/plain": [
       "0"
      ]
     },
     "execution_count": 51,
     "metadata": {},
     "output_type": "execute_result"
    }
   ],
   "source": [
    "equal(3, 4, 1)"
   ]
  },
  {
   "cell_type": "code",
   "execution_count": 52,
   "id": "3bea8452",
   "metadata": {},
   "outputs": [],
   "source": [
    "#16 Create a function which validates whether a 3 character string is a vowel sandwich. In order to have a valid \n",
    "#sandwich, the string must satisfy the following rules:\n",
    "#The first and last characters must be a consonant.\n",
    "#The character in the middle must be a vowel.\n",
    "\n",
    "def is_vowel_sandwich(s):\n",
    "    v=0;c=0\n",
    "    if len(s)==3:\n",
    "        for x in s:\n",
    "            if x==\"a\" or x==\"e\" or x==\"i\" or x==\"o\" or x==\"u\":\n",
    "                v+=1\n",
    "            else:\n",
    "                c+=1\n",
    "        return (c==2 and v==1)\n",
    "    else:\n",
    "        return False\n"
   ]
  },
  {
   "cell_type": "code",
   "execution_count": 53,
   "id": "fac089f9",
   "metadata": {},
   "outputs": [
    {
     "data": {
      "text/plain": [
       "True"
      ]
     },
     "execution_count": 53,
     "metadata": {},
     "output_type": "execute_result"
    }
   ],
   "source": [
    "is_vowel_sandwich(\"cat\")"
   ]
  },
  {
   "cell_type": "code",
   "execution_count": 54,
   "id": "d75ccf41",
   "metadata": {},
   "outputs": [
    {
     "data": {
      "text/plain": [
       "False"
      ]
     },
     "execution_count": 54,
     "metadata": {},
     "output_type": "execute_result"
    }
   ],
   "source": [
    "is_vowel_sandwich(\"ear\")"
   ]
  },
  {
   "cell_type": "code",
   "execution_count": 55,
   "id": "ec4ed54b",
   "metadata": {},
   "outputs": [
    {
     "data": {
      "text/plain": [
       "False"
      ]
     },
     "execution_count": 55,
     "metadata": {},
     "output_type": "execute_result"
    }
   ],
   "source": [
    "is_vowel_sandwich(\"bake\")"
   ]
  },
  {
   "cell_type": "code",
   "execution_count": 56,
   "id": "920e87e1",
   "metadata": {},
   "outputs": [],
   "source": [
    "#17 Write a function that takes a string, breaks it up and returns it with vowels first, consonants second. \n",
    "#For any character that's not a vowel (like special characters or spaces), treat them like consonants.\n",
    "\n",
    "def split(z):\n",
    "    v=\"\";c=\"\"\n",
    "    for y in range(len(z)):\n",
    "        if z[y]==\"a\" or z[y]==\"e\" or z[y]==\"i\" or z[y]==\"o\" or z[y]==\"u\" or z[y]==\"A\" or z[y]==\"E\" or z[y]==\"I\" or z[y]==\"O\" or z[y]==\"U\":\n",
    "            v+=z[y]\n",
    "        else:\n",
    "            c+=z[y]\n",
    "    return (v+c)\n"
   ]
  },
  {
   "cell_type": "code",
   "execution_count": 57,
   "id": "0db63663",
   "metadata": {},
   "outputs": [
    {
     "data": {
      "text/plain": [
       "'aebcd'"
      ]
     },
     "execution_count": 57,
     "metadata": {},
     "output_type": "execute_result"
    }
   ],
   "source": [
    "split(\"abcde\")"
   ]
  },
  {
   "cell_type": "code",
   "execution_count": 58,
   "id": "7ddb3d82",
   "metadata": {},
   "outputs": [],
   "source": [
    "#18 Write a function that takes a string and calculates the number of letters and digits within it. \n",
    "#Return the result in a dictionary.\n",
    "\n",
    "def count_all(s):\n",
    "    d={}\n",
    "    l=0;n=0\n",
    "    for x in s:\n",
    "        if x.isalpha():\n",
    "            l+=1\n",
    "        elif x.isdigit():\n",
    "            n+=1\n",
    "        else:\n",
    "            continue\n",
    "    d.update({\"LETTERS\":l,\"DIGITS\":n})\n",
    "    return d\n"
   ]
  },
  {
   "cell_type": "code",
   "execution_count": 59,
   "id": "163aa7c5",
   "metadata": {},
   "outputs": [
    {
     "data": {
      "text/plain": [
       "{'LETTERS': 10, 'DIGITS': 0}"
      ]
     },
     "execution_count": 59,
     "metadata": {},
     "output_type": "execute_result"
    }
   ],
   "source": [
    "count_all(\"Hello World\")"
   ]
  },
  {
   "cell_type": "code",
   "execution_count": 60,
   "id": "77758df5",
   "metadata": {},
   "outputs": [
    {
     "data": {
      "text/plain": [
       "{'LETTERS': 7, 'DIGITS': 3}"
      ]
     },
     "execution_count": 60,
     "metadata": {},
     "output_type": "execute_result"
    }
   ],
   "source": [
    "count_all(\"H3ll0 Wor1d\")"
   ]
  },
  {
   "cell_type": "code",
   "execution_count": 61,
   "id": "548a4113",
   "metadata": {},
   "outputs": [
    {
     "data": {
      "text/plain": [
       "{'LETTERS': 0, 'DIGITS': 6}"
      ]
     },
     "execution_count": 61,
     "metadata": {},
     "output_type": "execute_result"
    }
   ],
   "source": [
    "count_all(\"149990\")"
   ]
  },
  {
   "cell_type": "code",
   "execution_count": 62,
   "id": "1b7876dd",
   "metadata": {},
   "outputs": [],
   "source": [
    "#19 Create a method in the Person class which returns how another person's age compares. Given the objects p1,\n",
    "#p2 and p3, which will be initialised with the attributes name and age, return a sentence in the following format:\n",
    "#{other_person} is {older than / younger than / the same age as} me.\n",
    "\n",
    "class Person:\n",
    "    \n",
    "    def __init__(self,name,age):\n",
    "        self.name=name\n",
    "        self.age=age"
   ]
  },
  {
   "cell_type": "code",
   "execution_count": null,
   "id": "74f3d1ea",
   "metadata": {},
   "outputs": [],
   "source": []
  },
  {
   "cell_type": "code",
   "execution_count": null,
   "id": "73962501",
   "metadata": {},
   "outputs": [],
   "source": []
  },
  {
   "cell_type": "code",
   "execution_count": 63,
   "id": "c17621bf",
   "metadata": {},
   "outputs": [],
   "source": [
    "#20 Write a function that returns the boolean True if the given two lists do not share any numbers, and False \n",
    "#otherwise.\n",
    "\n",
    "def is_list_same(l1,l2):\n",
    "    for x in l1:\n",
    "        if x in l2:\n",
    "            return False\n",
    "    return True\n"
   ]
  },
  {
   "cell_type": "code",
   "execution_count": 64,
   "id": "7e5539b1",
   "metadata": {},
   "outputs": [
    {
     "data": {
      "text/plain": [
       "True"
      ]
     },
     "execution_count": 64,
     "metadata": {},
     "output_type": "execute_result"
    }
   ],
   "source": [
    "is_list_same([1,2,3],[4,5])"
   ]
  },
  {
   "cell_type": "code",
   "execution_count": 65,
   "id": "804a2030",
   "metadata": {},
   "outputs": [],
   "source": [
    "#21 Lists can be mixed with various types. Your task for this challenge is to sum all the number elements in \n",
    "#the given list. Create a function that takes a list and returns the sum of all numbers in the list.\n",
    "\n",
    "def numbers_sum(l):\n",
    "    s=0\n",
    "    for x in l:\n",
    "        if type(x)==int:\n",
    "            s+=x\n",
    "        else:\n",
    "            continue\n",
    "    return s\n"
   ]
  },
  {
   "cell_type": "code",
   "execution_count": 66,
   "id": "1b46391d",
   "metadata": {},
   "outputs": [
    {
     "data": {
      "text/plain": [
       "3"
      ]
     },
     "execution_count": 66,
     "metadata": {},
     "output_type": "execute_result"
    }
   ],
   "source": [
    "numbers_sum([1, 2, \"13\", \"4\", \"645\"])"
   ]
  },
  {
   "cell_type": "code",
   "execution_count": 67,
   "id": "30dba58a",
   "metadata": {},
   "outputs": [
    {
     "data": {
      "text/plain": [
       "0"
      ]
     },
     "execution_count": 67,
     "metadata": {},
     "output_type": "execute_result"
    }
   ],
   "source": [
    "numbers_sum([True, False, \"123\", \"75\"])"
   ]
  },
  {
   "cell_type": "code",
   "execution_count": 68,
   "id": "e0fed58f",
   "metadata": {},
   "outputs": [],
   "source": [
    "#22 Create a function that takes a list of positive and negative numbers. Return a list where the first\n",
    "#element is the count of positive numbers and the second element is the sum of negative numbers\n",
    "\n",
    "def sum_neg(l):\n",
    "    sp=0;sn=0;lst=[]\n",
    "    if len(l)>0:\n",
    "        for x in l:\n",
    "            if x>=0:\n",
    "                sp+=1\n",
    "            else:\n",
    "                sn+=x\n",
    "        lst.append(sp)\n",
    "        lst.append(sn)\n",
    "        return lst\n",
    "    else:\n",
    "        return []\n"
   ]
  },
  {
   "cell_type": "code",
   "execution_count": 69,
   "id": "534a1dae",
   "metadata": {},
   "outputs": [
    {
     "data": {
      "text/plain": [
       "[10, -65]"
      ]
     },
     "execution_count": 69,
     "metadata": {},
     "output_type": "execute_result"
    }
   ],
   "source": [
    "sum_neg([1, 2, 3, 4, 5, 6, 7, 8, 9, 10, -11, -12, -13, -14, -15]) "
   ]
  },
  {
   "cell_type": "code",
   "execution_count": 70,
   "id": "36059e7c",
   "metadata": {},
   "outputs": [
    {
     "data": {
      "text/plain": [
       "[]"
      ]
     },
     "execution_count": 70,
     "metadata": {},
     "output_type": "execute_result"
    }
   ],
   "source": [
    "sum_neg([])"
   ]
  },
  {
   "cell_type": "code",
   "execution_count": 71,
   "id": "99e09b1e",
   "metadata": {},
   "outputs": [],
   "source": [
    "#23 Create a function that takes a string and returns a new string with its first and last characters swapped, \n",
    "#except under three conditions:\n",
    "#If the length of the string is less than two, return \"Incompatible.\".\n",
    "#If the argument is not a string, return \"Incompatible.\".\n",
    "#If the first and last characters are the same, return \"Two's a pair.\".\n",
    "\n",
    "def flip_end_chars(s):\n",
    "    a=\"\"\n",
    "    if type(s)==str:\n",
    "        if len(s)<=2:\n",
    "            return \"Incompatible\"\n",
    "        elif s[0]==s[-1]:\n",
    "            return \"Two's a pair\"\n",
    "        else:\n",
    "            for x in range(len(s)):\n",
    "                if x==0:\n",
    "                    a+=s[-1]\n",
    "                elif x==len(s)-1:\n",
    "                    a+=s[0]\n",
    "                else:\n",
    "                    a+=s[x]\n",
    "            return a\n",
    "    else:\n",
    "        return \"Incompatible\""
   ]
  },
  {
   "cell_type": "code",
   "execution_count": 72,
   "id": "939b4fb1",
   "metadata": {},
   "outputs": [
    {
     "data": {
      "text/plain": [
       "'.at, dog, and mouseC'"
      ]
     },
     "execution_count": 72,
     "metadata": {},
     "output_type": "execute_result"
    }
   ],
   "source": [
    "flip_end_chars(\"Cat, dog, and mouse.\")"
   ]
  },
  {
   "cell_type": "code",
   "execution_count": 73,
   "id": "1956796e",
   "metadata": {},
   "outputs": [
    {
     "data": {
      "text/plain": [
       "\"Two's a pair\""
      ]
     },
     "execution_count": 73,
     "metadata": {},
     "output_type": "execute_result"
    }
   ],
   "source": [
    "flip_end_chars(\"ada\")"
   ]
  },
  {
   "cell_type": "code",
   "execution_count": 74,
   "id": "a53d0eb7",
   "metadata": {},
   "outputs": [
    {
     "data": {
      "text/plain": [
       "'adA'"
      ]
     },
     "execution_count": 74,
     "metadata": {},
     "output_type": "execute_result"
    }
   ],
   "source": [
    "flip_end_chars(\"Ada\")"
   ]
  },
  {
   "cell_type": "code",
   "execution_count": 75,
   "id": "79fe7137",
   "metadata": {},
   "outputs": [
    {
     "data": {
      "text/plain": [
       "'Incompatible'"
      ]
     },
     "execution_count": 75,
     "metadata": {},
     "output_type": "execute_result"
    }
   ],
   "source": [
    "flip_end_chars(\"z\")"
   ]
  },
  {
   "cell_type": "code",
   "execution_count": 76,
   "id": "e3bafdb7",
   "metadata": {},
   "outputs": [
    {
     "data": {
      "text/plain": [
       "'Incompatible'"
      ]
     },
     "execution_count": 76,
     "metadata": {},
     "output_type": "execute_result"
    }
   ],
   "source": [
    "flip_end_chars([1, 2, 3])"
   ]
  },
  {
   "cell_type": "code",
   "execution_count": 81,
   "id": "454322d0",
   "metadata": {},
   "outputs": [],
   "source": [
    "#24 Create a function that takes a number as an argument and returns the appropriate error message. You should\n",
    "#do this without using the switch or if statements.\n",
    "#For any other value, return 101 (you can use an if statement here).\n",
    "#The input error will be 1 to 5:\n",
    "#1 >> \"Check the fan: e1\"\n",
    "#2 >> \"Emergency stop: e2\"\n",
    "#3 >> \"Pump Error: e3\"\n",
    "#4 >> \"c: e4\"\n",
    "#5 >> \"Temperature Sensor Error: e5\"\n",
    "\n",
    "#Examples\n",
    "#error(1) ➞ \"Check the fan: e1\"\n",
    "#error(2) ➞ \"Emergency stop: e2\"\n",
    "#error(3) ➞ \"Pump Error: e3\"\n",
    "\n",
    "def error(n): \n",
    "    d={1:\"Check the fan: e1\",2:\"Emergency stop: e3\",3:\"Pump error: e3\",4:\"c: e4\",5:\"Temperature Sensor Error: e5\"}\n",
    "    for x in d:\n",
    "        if n==x:\n",
    "            return d[x]\n",
    "        else:\n",
    "            return 101"
   ]
  },
  {
   "cell_type": "code",
   "execution_count": 82,
   "id": "53e65051",
   "metadata": {},
   "outputs": [
    {
     "data": {
      "text/plain": [
       "'Check the fan: e1'"
      ]
     },
     "execution_count": 82,
     "metadata": {},
     "output_type": "execute_result"
    }
   ],
   "source": [
    "error(1)"
   ]
  },
  {
   "cell_type": "code",
   "execution_count": 84,
   "id": "54c034b8",
   "metadata": {},
   "outputs": [],
   "source": [
    "#25 Given a list with an odd number of elements, return whether the scale will tip \"left\" or \"right\" based on the \n",
    "#sum of the numbers. The scale will tip on the direction of the largest total. If both sides are equal, return \n",
    "#\"balanced\".\n",
    "\n",
    "def scale_tip(lst):\n",
    "    a=lst.index(\"I\")\n",
    "    l=0;r=0\n",
    "    for x in range(0,len(lst)):\n",
    "        if x<a:\n",
    "            l+=lst[x]\n",
    "        elif x>a:\n",
    "            r+=lst[x]\n",
    "        else:\n",
    "            continue\n",
    "    if l>r:\n",
    "        return \"left\"\n",
    "    elif l<r:\n",
    "        return \"right\"\n",
    "    else:\n",
    "        return \"balanced\""
   ]
  },
  {
   "cell_type": "code",
   "execution_count": 85,
   "id": "ae585df7",
   "metadata": {},
   "outputs": [
    {
     "data": {
      "text/plain": [
       "'right'"
      ]
     },
     "execution_count": 85,
     "metadata": {},
     "output_type": "execute_result"
    }
   ],
   "source": [
    "scale_tip([0, 0, \"I\", 1, 1])"
   ]
  },
  {
   "cell_type": "code",
   "execution_count": 86,
   "id": "509b0819",
   "metadata": {},
   "outputs": [
    {
     "data": {
      "text/plain": [
       "'left'"
      ]
     },
     "execution_count": 86,
     "metadata": {},
     "output_type": "execute_result"
    }
   ],
   "source": [
    "scale_tip([1, 2, 3, \"I\", 4, 0, 0])"
   ]
  },
  {
   "cell_type": "code",
   "execution_count": 87,
   "id": "0cdf0c90",
   "metadata": {},
   "outputs": [
    {
     "data": {
      "text/plain": [
       "'balanced'"
      ]
     },
     "execution_count": 87,
     "metadata": {},
     "output_type": "execute_result"
    }
   ],
   "source": [
    "scale_tip([5, 5, 5, 0, \"I\", 10, 2, 2, 1])"
   ]
  },
  {
   "cell_type": "code",
   "execution_count": 89,
   "id": "56dd832f",
   "metadata": {},
   "outputs": [],
   "source": [
    "#26 Create a function that changes specific words into emoticons. Given a sentence as a string, replace the words\n",
    "#smile, grin, sad and mad with their corresponding emoticons.\n",
    "#word\temoticon\n",
    "#smile\t:D\n",
    "#grin\t:)\n",
    "#sad\t:(\n",
    "#mad\t:P\n",
    "\n",
    "def emotify(s):\n",
    "    a=s[8:].lower()\n",
    "    d={\"smile\":\":D\",\"grin\":\":)\",\"sad\":\":(\",\"mad\":\":P\"}\n",
    "    for x in d:\n",
    "        if a==x:\n",
    "            return \"Make me \"+d[x]\n",
    "        else:\n",
    "            continue"
   ]
  },
  {
   "cell_type": "code",
   "execution_count": 90,
   "id": "3cbb7781",
   "metadata": {},
   "outputs": [
    {
     "data": {
      "text/plain": [
       "'Make me :D'"
      ]
     },
     "execution_count": 90,
     "metadata": {},
     "output_type": "execute_result"
    }
   ],
   "source": [
    "emotify(\"Make me smile\")"
   ]
  },
  {
   "cell_type": "code",
   "execution_count": 91,
   "id": "55bf44d2",
   "metadata": {},
   "outputs": [
    {
     "data": {
      "text/plain": [
       "'Make me :)'"
      ]
     },
     "execution_count": 91,
     "metadata": {},
     "output_type": "execute_result"
    }
   ],
   "source": [
    "emotify(\"Make me grin\")"
   ]
  },
  {
   "cell_type": "code",
   "execution_count": 92,
   "id": "727f1953",
   "metadata": {},
   "outputs": [
    {
     "data": {
      "text/plain": [
       "'Make me :('"
      ]
     },
     "execution_count": 92,
     "metadata": {},
     "output_type": "execute_result"
    }
   ],
   "source": [
    "emotify(\"Make me sad\")"
   ]
  },
  {
   "cell_type": "code",
   "execution_count": 93,
   "id": "b5c3f006",
   "metadata": {},
   "outputs": [],
   "source": [
    "#27 Create a function that takes the month and year (as integers) and returns the number of days in that month.\n",
    "\n",
    "def day_amount(m,y):\n",
    "    d={1:31,2:28,3:31,4:30,5:31,6:30,7:31,8:31,9:30,10:31,11:30,12:31}\n",
    "    if y%4==0:\n",
    "        d.update({2:29})\n",
    "        return d[m]\n",
    "    else:\n",
    "        return d[m]"
   ]
  },
  {
   "cell_type": "code",
   "execution_count": 94,
   "id": "c80449c7",
   "metadata": {},
   "outputs": [
    {
     "data": {
      "text/plain": [
       "28"
      ]
     },
     "execution_count": 94,
     "metadata": {},
     "output_type": "execute_result"
    }
   ],
   "source": [
    "day_amount(2, 2018)"
   ]
  },
  {
   "cell_type": "code",
   "execution_count": 95,
   "id": "b426660d",
   "metadata": {},
   "outputs": [
    {
     "data": {
      "text/plain": [
       "30"
      ]
     },
     "execution_count": 95,
     "metadata": {},
     "output_type": "execute_result"
    }
   ],
   "source": [
    "day_amount(4, 654)"
   ]
  },
  {
   "cell_type": "code",
   "execution_count": 96,
   "id": "1e1b501e",
   "metadata": {},
   "outputs": [
    {
     "data": {
      "text/plain": [
       "29"
      ]
     },
     "execution_count": 96,
     "metadata": {},
     "output_type": "execute_result"
    }
   ],
   "source": [
    "day_amount(2, 2016)"
   ]
  },
  {
   "cell_type": "code",
   "execution_count": 98,
   "id": "781ae866",
   "metadata": {},
   "outputs": [],
   "source": [
    "#28 Create a function that changes all the elements in a list as follows:\n",
    "#Add 1 to all even integers, nothing to odd integers.\n",
    "#Concatenates \"!\" to all strings and make the first letter of the word a capital letter.\n",
    "#Changes all boolean values to its opposite.\n",
    "#Notes :\n",
    "#There won't be any float values.\n",
    "#You won't get strings with both numbers and letters in them.\n",
    "#Although the task may be easy, try keeping your code as clean and as readable as possible!\n",
    "\n",
    "def change_types(lst):\n",
    "    for x in range(len(lst)):\n",
    "        if type(lst[x])==int:\n",
    "            if lst[x]%2==0:\n",
    "                lst[x]+=1\n",
    "            else:\n",
    "                continue\n",
    "        elif type(lst[x])==str:\n",
    "            lst[x]=lst[x].title()+\"!\"\n",
    "        elif type(lst[x])==bool:\n",
    "            lst[x]=not(lst[x])\n",
    "        else:\n",
    "            continue\n",
    "    return lst"
   ]
  },
  {
   "cell_type": "code",
   "execution_count": 99,
   "id": "11fe1d52",
   "metadata": {},
   "outputs": [
    {
     "data": {
      "text/plain": [
       "['A!', 13, False]"
      ]
     },
     "execution_count": 99,
     "metadata": {},
     "output_type": "execute_result"
    }
   ],
   "source": [
    "change_types([\"a\", 12, True])"
   ]
  },
  {
   "cell_type": "code",
   "execution_count": 100,
   "id": "8e739373",
   "metadata": {},
   "outputs": [
    {
     "data": {
      "text/plain": [
       "[13, '13!', '12!', 'Twelve!']"
      ]
     },
     "execution_count": 100,
     "metadata": {},
     "output_type": "execute_result"
    }
   ],
   "source": [
    "change_types([13, \"13\", \"12\", \"twelve\"])"
   ]
  },
  {
   "cell_type": "code",
   "execution_count": 101,
   "id": "f2ef4a80",
   "metadata": {},
   "outputs": [
    {
     "data": {
      "text/plain": [
       "[True, 'False!', 'True!']"
      ]
     },
     "execution_count": 101,
     "metadata": {},
     "output_type": "execute_result"
    }
   ],
   "source": [
    "change_types([False, \"False\", \"true\"])"
   ]
  },
  {
   "cell_type": "code",
   "execution_count": 102,
   "id": "12dc7f76",
   "metadata": {},
   "outputs": [],
   "source": [
    "#29 Write a function that returns the third character of the third string in a given list of strings. Return\n",
    "#False if it can't be found.\n",
    "\n",
    "def list_of_strings(lst):\n",
    "    if len(lst)>=3:\n",
    "        if len(lst[2])>=3:\n",
    "            return lst[2][2]\n",
    "        else:\n",
    "            return False\n",
    "    else:\n",
    "        return False"
   ]
  },
  {
   "cell_type": "code",
   "execution_count": 103,
   "id": "cba2dbde",
   "metadata": {},
   "outputs": [
    {
     "data": {
      "text/plain": [
       "False"
      ]
     },
     "execution_count": 103,
     "metadata": {},
     "output_type": "execute_result"
    }
   ],
   "source": [
    "list_of_strings([\"a\",\"b\",\"c\",\"d\"])"
   ]
  },
  {
   "cell_type": "code",
   "execution_count": 104,
   "id": "39e76438",
   "metadata": {},
   "outputs": [
    {
     "data": {
      "text/plain": [
       "'a'"
      ]
     },
     "execution_count": 104,
     "metadata": {},
     "output_type": "execute_result"
    }
   ],
   "source": [
    "list_of_strings([\"apple\",\"banana\",\"orange\",\"guava\"])"
   ]
  },
  {
   "cell_type": "code",
   "execution_count": 105,
   "id": "7f0fca77",
   "metadata": {},
   "outputs": [],
   "source": [
    "#30 A man named Thomas Malthus described what is now called a Malthusian Catastrophe. According to him, food \n",
    "#production grows by a fixed amount, but population grows by a percentage. So, the food supply would soon be \n",
    "#insufficient for the population.\n",
    "#Your job is to find out when that will occur. For this challenge, assume 1 population needs 1 unit of food\n",
    "#production. Food production and population both start at 100. The year starts at 0.\n",
    "#The catastrophe happens when the population is larger than food production.\n",
    "#The function will pass:\n",
    "#food_growth ⁠— an integer ⁠— food production increase per year.\n",
    "#pop_mult ⁠— a floating-point number ⁠— population growth multiplier per year.\n",
    "\n",
    "def malthusian(food_growth,pop_mult):\n",
    "    food=100;pop=100;y=0\n",
    "    while food>=pop:\n",
    "        food+=food_growth\n",
    "        pop*=pop_mult\n",
    "        y+=1\n",
    "    return y"
   ]
  },
  {
   "cell_type": "code",
   "execution_count": 106,
   "id": "eba6e741",
   "metadata": {},
   "outputs": [
    {
     "data": {
      "text/plain": [
       "20"
      ]
     },
     "execution_count": 106,
     "metadata": {},
     "output_type": "execute_result"
    }
   ],
   "source": [
    "malthusian(4255, 1.41)"
   ]
  },
  {
   "cell_type": "code",
   "execution_count": 112,
   "id": "2a827057",
   "metadata": {},
   "outputs": [],
   "source": [
    "#31 A list is special if every even index contains an even number and every odd index contains an odd number.\n",
    "#Create a function that returns True if an array is special, and False otherwise.\n",
    "\n",
    "def is_special_array(lst):\n",
    "    for x in range(1,len(lst)):\n",
    "        if not(x%2==0):\n",
    "            if not(lst[x]%2==0):\n",
    "                continue\n",
    "            else:\n",
    "                return False\n",
    "        else:\n",
    "            if lst[x]%2==0:\n",
    "                continue\n",
    "            else:\n",
    "                return False\n",
    "    return True"
   ]
  },
  {
   "cell_type": "code",
   "execution_count": 111,
   "id": "4c1c5fac",
   "metadata": {},
   "outputs": [
    {
     "data": {
      "text/plain": [
       "True"
      ]
     },
     "execution_count": 111,
     "metadata": {},
     "output_type": "execute_result"
    }
   ],
   "source": [
    "is_special_array([2, 7, 4, 9, 6, 1, 6, 3])"
   ]
  },
  {
   "cell_type": "code",
   "execution_count": 114,
   "id": "0839f16e",
   "metadata": {},
   "outputs": [
    {
     "data": {
      "text/plain": [
       "False"
      ]
     },
     "execution_count": 114,
     "metadata": {},
     "output_type": "execute_result"
    }
   ],
   "source": [
    "is_special_array([2, 7, 9, 1, 6, 1, 6, 3])"
   ]
  },
  {
   "cell_type": "code",
   "execution_count": 115,
   "id": "dc7e26ed",
   "metadata": {},
   "outputs": [],
   "source": [
    "#32 Write a function that returns True if the given positive integer is a prime number and False if it's not.\n",
    "\n",
    "def is_prime(i):\n",
    "    a=0\n",
    "    for x in range(1,i+1):\n",
    "        if i%x==0:\n",
    "            a+=1\n",
    "        else:\n",
    "            continue\n",
    "    if a==2:\n",
    "        return True\n",
    "    else:\n",
    "        return False"
   ]
  },
  {
   "cell_type": "code",
   "execution_count": 116,
   "id": "54473222",
   "metadata": {},
   "outputs": [
    {
     "data": {
      "text/plain": [
       "True"
      ]
     },
     "execution_count": 116,
     "metadata": {},
     "output_type": "execute_result"
    }
   ],
   "source": [
    "is_prime(23)"
   ]
  },
  {
   "cell_type": "code",
   "execution_count": 117,
   "id": "b972e9bb",
   "metadata": {},
   "outputs": [
    {
     "data": {
      "text/plain": [
       "False"
      ]
     },
     "execution_count": 117,
     "metadata": {},
     "output_type": "execute_result"
    }
   ],
   "source": [
    "is_prime(12)"
   ]
  },
  {
   "cell_type": "code",
   "execution_count": 118,
   "id": "4f2a6a97",
   "metadata": {},
   "outputs": [],
   "source": [
    "#33 Create a function that takes a string s and returns a list of two-paired characters. If the string has an \n",
    "#odd number of characters, add an asterisk * in the final pair.\n",
    "\n",
    "def string_pairs(s):\n",
    "    l=[]\n",
    "    for x in range(0,len(s),2):\n",
    "        if x==len(s)-1:\n",
    "            l.append(s[x]+\"*\")\n",
    "        else:\n",
    "            l.append(s[x]+s[x+1])\n",
    "    return l"
   ]
  },
  {
   "cell_type": "code",
   "execution_count": 119,
   "id": "07175c97",
   "metadata": {},
   "outputs": [
    {
     "data": {
      "text/plain": [
       "['mu', 'ba', 'sh', 'ir']"
      ]
     },
     "execution_count": 119,
     "metadata": {},
     "output_type": "execute_result"
    }
   ],
   "source": [
    "string_pairs(\"mubashir\")"
   ]
  },
  {
   "cell_type": "code",
   "execution_count": 120,
   "id": "81db2224",
   "metadata": {},
   "outputs": [
    {
     "data": {
      "text/plain": [
       "['ed', 'ab', 'it']"
      ]
     },
     "execution_count": 120,
     "metadata": {},
     "output_type": "execute_result"
    }
   ],
   "source": [
    "string_pairs(\"edabit\")"
   ]
  },
  {
   "cell_type": "code",
   "execution_count": 121,
   "id": "2bb29894",
   "metadata": {},
   "outputs": [
    {
     "data": {
      "text/plain": [
       "['ai', 'rf', 'or', 'ce', 's*']"
      ]
     },
     "execution_count": 121,
     "metadata": {},
     "output_type": "execute_result"
    }
   ],
   "source": [
    "string_pairs(\"airforces\")"
   ]
  }
 ],
 "metadata": {
  "kernelspec": {
   "display_name": "Python 3 (ipykernel)",
   "language": "python",
   "name": "python3"
  },
  "language_info": {
   "codemirror_mode": {
    "name": "ipython",
    "version": 3
   },
   "file_extension": ".py",
   "mimetype": "text/x-python",
   "name": "python",
   "nbconvert_exporter": "python",
   "pygments_lexer": "ipython3",
   "version": "3.10.9"
  }
 },
 "nbformat": 4,
 "nbformat_minor": 5
}
